{
  "cells": [
    {
      "cell_type": "markdown",
      "id": "af39cecb",
      "metadata": {
        "id": "af39cecb"
      },
      "source": [
        "# Chapter 2: Variables, Expressions, and Statements\n",
        "\n",
        "In this notebook, we'll explore the basic building blocks of programming: **variables**, **expressions**, **statements**, and **data types** in Python. Understanding these concepts is essential for writing effective Python code."
      ]
    },
    {
      "cell_type": "markdown",
      "id": "b4c1abf6",
      "metadata": {
        "id": "TcrhG4Y6j4wI"
      },
      "source": [
        "### Words and Sentences"
      ]
    },
    {
      "cell_type": "markdown",
      "id": "d98af70e",
      "metadata": {
        "id": "VTbrtlcRkU2w"
      },
      "source": [
        "In Python, there are certain reserved words that have special meanings and cannot be used for naming variables or functions. These reserved words are fundamental to writing Python code, as they serve as the building blocks of the language."
      ]
    },
    {
      "cell_type": "code",
      "execution_count": 2,
      "id": "bb8a47ad",
      "metadata": {
        "colab": {
          "base_uri": "https://localhost:8080/"
        },
        "id": "71KrWcypjdGR",
        "outputId": "002e171b-5930-496a-d3a7-67796dd028b5"
      },
      "outputs": [
        {
          "name": "stdout",
          "output_type": "stream",
          "text": [
            "False | await | else | import | pass\n",
            "None | break | except | in | raise\n",
            "True | class | finally | is | return\n",
            "and | continue | for | lambda | try\n",
            "as | def | from | nonlocal | while\n",
            "assert | del | global | not | with\n",
            "async | elif | if | or | yield\n"
          ]
        }
      ],
      "source": [
        "keywords = [\n",
        "    [\"False\", \"await\", \"else\", \"import\", \"pass\"],\n",
        "    [\"None\", \"break\", \"except\", \"in\", \"raise\"],\n",
        "    [\"True\", \"class\", \"finally\", \"is\", \"return\"],\n",
        "    [\"and\", \"continue\", \"for\", \"lambda\", \"try\"],\n",
        "    [\"as\", \"def\", \"from\", \"nonlocal\", \"while\"],\n",
        "    [\"assert\", \"del\", \"global\", \"not\", \"with\"],\n",
        "    [\"async\", \"elif\", \"if\", \"or\", \"yield\"]\n",
        "]\n",
        "\n",
        "for row in keywords:\n",
        "    print(\" | \".join(row))"
      ]
    },
    {
      "cell_type": "markdown",
      "id": "c507babb",
      "metadata": {
        "id": "z8AiJFU_mF-T"
      },
      "source": [
        "### Conversing with Python"
      ]
    },
    {
      "cell_type": "markdown",
      "id": "69b5d82b",
      "metadata": {
        "id": "RzDuHYNZm-Cp"
      },
      "source": [
        "Imagine you're trying to communicate with Python for the first time, just like an astronaut trying to speak with aliens on a distant planet. If you type something in Python that it doesn't understand, you'll encounter a syntax error. Let's see what happens if we try to use plain English without following Python's rules:"
      ]
    },
    {
      "cell_type": "code",
      "execution_count": 6,
      "id": "25144338",
      "metadata": {
        "colab": {
          "base_uri": "https://localhost:8080/",
          "height": 106
        },
        "id": "LudhrhXMl_oT",
        "outputId": "6f947db5-a870-40d6-ed4e-d95bb02d75f5"
      },
      "outputs": [
        {
          "ename": "SyntaxError",
          "evalue": "invalid syntax (<ipython-input-6-88cc84e0a278>, line 1)",
          "output_type": "error",
          "traceback": [
            "\u001b[0;36m  File \u001b[0;32m\"<ipython-input-6-88cc84e0a278>\"\u001b[0;36m, line \u001b[0;32m1\u001b[0m\n\u001b[0;31m    I come in peace, please take me to your leader\u001b[0m\n\u001b[0m      ^\u001b[0m\n\u001b[0;31mSyntaxError\u001b[0m\u001b[0;31m:\u001b[0m invalid syntax\n"
          ]
        }
      ],
      "source": [
        "I come in peace, please take me to your leader"
      ]
    },
    {
      "cell_type": "markdown",
      "id": "c4f15378",
      "metadata": {
        "id": "3CAWxCvYlpYA"
      },
      "source": [
        "We will learn how to use these reserved words as we delve deeper into Python programming. For now, let's start by learning how to make Python communicate by printing messages. The `print()` function in Python allows you to display messages or output to the console. This is the simplest way to interact with Python."
      ]
    },
    {
      "cell_type": "code",
      "execution_count": 3,
      "id": "0474a55f",
      "metadata": {
        "colab": {
          "base_uri": "https://localhost:8080/"
        },
        "id": "PswJaoS6iKtQ",
        "outputId": "eb4c27d9-e650-4274-9de1-ce024613b1c1"
      },
      "outputs": [
        {
          "name": "stdout",
          "output_type": "stream",
          "text": [
            "Hello, world!\n"
          ]
        }
      ],
      "source": [
        "print('Hello, world!')"
      ]
    },
    {
      "cell_type": "markdown",
      "id": "535a256d",
      "metadata": {
        "id": "m-9e-0uCnEPK"
      },
      "source": [
        "As you can see, Python doesn't understand plain English! We need to use proper syntax and commands that Python recognizes. Here's a correct example where we use the `print()` function to continue the conversation:"
      ]
    },
    {
      "cell_type": "code",
      "execution_count": 1,
      "id": "43000d3b",
      "metadata": {
        "colab": {
          "base_uri": "https://localhost:8080/",
          "height": 106
        },
        "id": "m-9e-0uCnEPK",
        "outputId": "8181eddc-ce7e-4bb5-d292-1701ab2cf349"
      },
      "outputs": [
        {
          "name": "stdout",
          "output_type": "stream",
          "text": [
            "Vincent Vega: \"And you know what they call a... a... a Quarter Pounder with Cheese in Paris?\n",
            "Jules Winnfield: \"They don't call it a Quarter Pounder with Cheese?\"\n"
          ]
        }
      ],
      "source": [
        "print('Vincent Vega: \"And you know what they call a... a... a Quarter Pounder with Cheese in Paris?')\n",
        "print('Jules Winnfield: \"They don\\'t call it a Quarter Pounder with Cheese?\"')\n"
      ]
    },
    {
      "cell_type": "markdown",
      "id": "5d9ae3be",
      "metadata": {
        "id": "SZm-9i4RoJhQ"
      },
      "source": [
        "Notice how we use the `print()` function with proper syntax to avoid errors. Always remember to use parentheses and enclose your messages in quotes."
      ]
    },
    {
      "cell_type": "markdown",
      "id": "70ca5b20",
      "metadata": {
        "id": "1pwmzSOKo9yw"
      },
      "source": [
        "### Writing a Program"
      ]
    },
    {
      "cell_type": "markdown",
      "id": "e6de2e62",
      "metadata": {
        "id": "chEsuoCEpP15"
      },
      "source": [
        "A Python program is a sequence of instructions written in a file. These instructions tell the computer what to do. A program can be as simple as a single line of code or as complex as thousands of lines.\n",
        "\n",
        "By convention, Python script files have names that end with `.py`. Let's create a simple Python script that prints a message:"
      ]
    },
    {
      "cell_type": "code",
      "execution_count": 9,
      "id": "104d2fe2",
      "metadata": {
        "colab": {
          "base_uri": "https://localhost:8080/"
        },
        "id": "Olj97vLinIR0",
        "outputId": "e54b3b31-dd98-4e5e-cac2-653e0556a509"
      },
      "outputs": [
        {
          "name": "stdout",
          "output_type": "stream",
          "text": [
            "print('Hello, world!')\n",
            "Hello, world!\n"
          ]
        }
      ],
      "source": [
        "# Create the hello.py file\n",
        "!echo \"print('Hello, world!')\" > hello.py\n",
        "\n",
        "# View the contents of the file (optional)\n",
        "!cat hello.py\n",
        "\n",
        "# Run the Python file\n",
        "!python hello.py\n"
      ]
    },
    {
      "cell_type": "markdown",
      "id": "62be0685",
      "metadata": {
        "id": "uRKgNmf2sSCS"
      },
      "source": [
        "**The definition of a program** is a sequence of Python statements that have been crafted to perform a specific task. Even our simple `hello.py` script is a program. It is a basic one-line program, but it meets the criteria of a Python program."
      ]
    },
    {
      "cell_type": "markdown",
      "id": "ed95063e",
      "metadata": {
        "id": "dZ8S-IpptUph"
      },
      "source": [
        "## 4. Concepts and Terminology"
      ]
    },
    {
      "cell_type": "markdown",
      "id": "fada4a8c",
      "metadata": {
        "id": "jsUhSfcWy70b"
      },
      "source": [
        "### Terminology: Interpreter and Compiler"
      ]
    },
    {
      "cell_type": "markdown",
      "id": "c1c97aaf",
      "metadata": {
        "id": "GHJKoUJMy_M6"
      },
      "source": [
        "Python is a *high-level language*, meaning it is designed to be easy for humans to read and write. However, computers do not directly understand high-level languages. To run a Python program on a computer, the code must be translated into machine code, which the computer can execute. This translation can be done in two ways: by using an interpreter or a compiler."
      ]
    },
    {
      "cell_type": "markdown",
      "id": "0b05329c",
      "metadata": {
        "id": "3AhUtpj7E3yD"
      },
      "source": [
        "An **interpreter** translates the source code line by line, executing each line as it goes. This means that Python code is read, interpreted, and executed directly without producing an intermediate machine code file."
      ]
    },
    {
      "cell_type": "code",
      "execution_count": 14,
      "id": "87bf40b9",
      "metadata": {
        "colab": {
          "base_uri": "https://localhost:8080/"
        },
        "id": "hOpDmonTFTJ4",
        "outputId": "cec67eef-00e2-46d3-e78d-459905f86a22"
      },
      "outputs": [
        {
          "name": "stdout",
          "output_type": "stream",
          "text": [
            "6\n"
          ]
        }
      ],
      "source": [
        "x = 6\n",
        "print(x)"
      ]
    },
    {
      "cell_type": "markdown",
      "id": "ad5579d4",
      "metadata": {
        "id": "uX1zkDNaFc4R"
      },
      "source": [
        "A **compiler** takes the entire program and translates it into machine code all at once, creating an executable file. This file can then be run directly by the computer's operating system without needing the original source code."
      ]
    },
    {
      "cell_type": "code",
      "execution_count": null,
      "id": "a1d92e3b",
      "metadata": {
        "colab": {
          "base_uri": "https://localhost:8080/",
          "height": 106
        },
        "id": "sRJWbs2gHItJ",
        "outputId": "6dd7fc03-b919-498b-85db-e213b13fb38b"
      },
      "outputs": [],
      "source": [
        "// Example C code (hello.c)\n",
        "#include <stdio.h>\n",
        "\n",
        "int main() {\n",
        "    printf(\"Hello, world!\\n\");\n",
        "    return 0;\n",
        "}\n"
      ]
    },
    {
      "cell_type": "markdown",
      "id": "1967e1af",
      "metadata": {
        "id": "D8eQRLJQsiSq"
      },
      "source": [
        "### The Building Blocks of Programs"
      ]
    },
    {
      "cell_type": "markdown",
      "id": "4eb4ebae",
      "metadata": {
        "id": "ZXZlaA-usrHB"
      },
      "source": [
        "Programs are made up of several key concepts:\n",
        "\n",
        "- **Input:** Getting data from the outside world (e.g., from a file, user input, or a sensor).\n",
        "- **Output:** Displaying data on the screen, storing it in a file, or sending it to another device.\n",
        "- **Sequential Execution:** Performing statements one after another in the order they appear.\n",
        "- **Conditional Execution:** Running certain statements only when specific conditions are met.\n",
        "- **Repeated Execution:** Running the same sequence of statements multiple times, typically with some variation.\n",
        "- **Reuse:** Writing a set of instructions once and reusing them throughout your program."
      ]
    },
    {
      "cell_type": "markdown",
      "id": "bbf9ab9e",
      "metadata": {
        "id": "GH0hRaAowFuK"
      },
      "source": [
        "### Errors"
      ]
    },
    {
      "cell_type": "markdown",
      "id": "c41e0d60",
      "metadata": {
        "id": "DqQ420HivlJg"
      },
      "source": [
        "Errors are an inevitable part of programming. Understanding the different types of errors can help you debug your code more effectively.\n",
        "\n",
        "- **Syntax Error:** Occurs when the code does not conform to the language's grammar rules. These errors prevent your code from being interpreted or compiled.\n",
        "- **Logic Error:** Occurs when the code runs without errors but produces incorrect results due to flawed logic.\n",
        "- **Semantic Error:** Occurs when the code is syntactically correct but doesn't do what the programmer intended."
      ]
    },
    {
      "cell_type": "code",
      "execution_count": 2,
      "id": "042d114e",
      "metadata": {
        "colab": {
          "base_uri": "https://localhost:8080/",
          "height": 106
        },
        "id": "GS75kOgmvacr",
        "outputId": "d539723a-2fc4-47a4-f652-6b4e606b28e5"
      },
      "outputs": [
        {
          "name": "stdout",
          "output_type": "stream",
          "text": [
            "Hello, world!  # Missing closing quote\n"
          ]
        }
      ],
      "source": [
        "print(\"Hello, world!  # Missing closing quote"
      ]
    },
    {
      "cell_type": "markdown",
      "id": "9e86cf67",
      "metadata": {
        "id": "h-xm7AKbs-ta"
      },
      "source": [
        "#### Example of a Logic Error"
      ]
    },
    {
      "cell_type": "code",
      "execution_count": 12,
      "id": "7b8baaa0",
      "metadata": {
        "colab": {
          "base_uri": "https://localhost:8080/"
        },
        "id": "nGZSVZTwvuSH",
        "outputId": "9b969599-f58a-4c55-bdc3-3284252fc10c"
      },
      "outputs": [
        {
          "name": "stdout",
          "output_type": "stream",
          "text": [
            "31.400000000000002\n"
          ]
        }
      ],
      "source": [
        "def calculate_area(radius):\n",
        "    return 2 * 3.14 * radius  # Incorrect formula, should be 3.14 * radius * radius\n",
        "\n",
        "area = calculate_area(5)\n",
        "print(area)"
      ]
    },
    {
      "cell_type": "markdown",
      "id": "d9f666d3",
      "metadata": {
        "id": "5fRmVlbev2ch"
      },
      "source": [
        "#### Example of a Semantic Error"
      ]
    },
    {
      "cell_type": "code",
      "execution_count": 13,
      "id": "a627c560",
      "metadata": {
        "colab": {
          "base_uri": "https://localhost:8080/"
        },
        "id": "csNrnxv5v4sJ",
        "outputId": "499cccd1-afc6-4fab-c074-5e75c70e367b"
      },
      "outputs": [
        {
          "name": "stdout",
          "output_type": "stream",
          "text": [
            "12\n"
          ]
        }
      ],
      "source": [
        "def divide(a, b):\n",
        "    return a + b  # Incorrect operation, should be a / b\n",
        "\n",
        "result = divide(10, 2)\n",
        "print(result)"
      ]
    },
    {
      "cell_type": "markdown",
      "id": "29f42303",
      "metadata": {
        "id": "29f42303"
      },
      "source": [
        "## Values and Types\n",
        "\n",
        "A **value** is a fundamental piece of data that a program manipulates. Values can be numbers, like `2` or `3.5`, or text, like `'Hello, World!'`. Every value in Python has a specific **type**:\n",
        "- `2` is an **integer** (`int`), representing whole numbers.\n",
        "- `3.5` is a **floating-point number** (`float`), allowing for decimal points.\n",
        "- `'Hello, World!'` is a **string** (`str`), a sequence of characters enclosed in quotes.\n",
        "\n",
        "Let's examine these types in action."
      ]
    },
    {
      "cell_type": "code",
      "execution_count": 1,
      "id": "afbfa20d",
      "metadata": {
        "colab": {
          "base_uri": "https://localhost:8080/"
        },
        "id": "afbfa20d"
      },
      "outputs": [
        {
          "data": {
            "text/plain": [
              "4"
            ]
          },
          "execution_count": 1,
          "metadata": {},
          "output_type": "execute_result"
        }
      ],
      "source": [
        "4  # This is an integer (int)"
      ]
    },
    {
      "cell_type": "code",
      "execution_count": 2,
      "id": "61ea6d6e",
      "metadata": {
        "colab": {
          "base_uri": "https://localhost:8080/"
        },
        "id": "61ea6d6e"
      },
      "outputs": [
        {
          "data": {
            "text/plain": [
              "3.5"
            ]
          },
          "execution_count": 2,
          "metadata": {},
          "output_type": "execute_result"
        }
      ],
      "source": [
        "3.5  # This is a floating-point number (float)"
      ]
    },
    {
      "cell_type": "code",
      "execution_count": 3,
      "id": "e72134b1",
      "metadata": {
        "colab": {
          "base_uri": "https://localhost:8080/",
          "height": 35
        },
        "id": "e72134b1"
      },
      "outputs": [
        {
          "data": {
            "application/vnd.google.colaboratory.intrinsic+json": {
              "type": "string"
            },
            "text/plain": [
              "'Hello, World!'"
            ]
          },
          "execution_count": 3,
          "metadata": {},
          "output_type": "execute_result"
        }
      ],
      "source": [
        "'Hello, World!'  # This is a string (str)"
      ]
    },
    {
      "cell_type": "markdown",
      "id": "77485aed",
      "metadata": {
        "id": "77485aed"
      },
      "source": [
        "### Checking Types\n",
        "\n",
        "Python provides the `type()` function to check the type of any value. This can be very useful for understanding how Python interprets different types of data."
      ]
    },
    {
      "cell_type": "code",
      "execution_count": 1,
      "id": "a7f47ae7",
      "metadata": {
        "colab": {
          "base_uri": "https://localhost:8080/"
        },
        "id": "a7f47ae7"
      },
      "outputs": [
        {
          "data": {
            "text/plain": [
              "int"
            ]
          },
          "execution_count": 1,
          "metadata": {},
          "output_type": "execute_result"
        }
      ],
      "source": [
        "type(4)  # Check the type of an integer"
      ]
    },
    {
      "cell_type": "markdown",
      "id": "0b3234bc",
      "metadata": {
        "id": "0b3234bc"
      },
      "source": [
        "When numbers include decimal points, they are treated as `float` types. The `float` type is useful for representing real numbers with fractional components."
      ]
    },
    {
      "cell_type": "code",
      "execution_count": 2,
      "id": "f5dd25ab",
      "metadata": {
        "colab": {
          "base_uri": "https://localhost:8080/"
        },
        "id": "f5dd25ab"
      },
      "outputs": [
        {
          "data": {
            "text/plain": [
              "float"
            ]
          },
          "execution_count": 2,
          "metadata": {},
          "output_type": "execute_result"
        }
      ],
      "source": [
        "type(3.5)  # Check the type of a float"
      ]
    },
    {
      "cell_type": "markdown",
      "id": "c529cb5f",
      "metadata": {
        "id": "c529cb5f"
      },
      "source": [
        "Strings are used to represent text data in Python. They are enclosed in quotes (single or double). Python allows various operations with strings, which we will explore later."
      ]
    },
    {
      "cell_type": "code",
      "execution_count": 8,
      "id": "8c4b0f19",
      "metadata": {
        "colab": {
          "base_uri": "https://localhost:8080/"
        },
        "id": "8c4b0f19"
      },
      "outputs": [
        {
          "data": {
            "text/plain": [
              "str"
            ]
          },
          "execution_count": 8,
          "metadata": {},
          "output_type": "execute_result"
        }
      ],
      "source": [
        "type('Hello, World!')  # Check the type of a string"
      ]
    },
    {
      "cell_type": "markdown",
      "id": "dde181d4",
      "metadata": {
        "id": "dde181d4"
      },
      "source": [
        "Values like `'17'` and `'3.2'` look like numbers, but because they are enclosed in quotes, they are actually strings. Let's confirm that using the `type()` function."
      ]
    },
    {
      "cell_type": "code",
      "execution_count": 10,
      "id": "810ad2c4",
      "metadata": {
        "colab": {
          "base_uri": "https://localhost:8080/"
        },
        "id": "810ad2c4"
      },
      "outputs": [
        {
          "data": {
            "text/plain": [
              "str"
            ]
          },
          "execution_count": 10,
          "metadata": {},
          "output_type": "execute_result"
        }
      ],
      "source": [
        "type('17')  # Check the type of a string\n"
      ]
    },
    {
      "cell_type": "code",
      "execution_count": 11,
      "id": "c84d1192",
      "metadata": {
        "colab": {
          "base_uri": "https://localhost:8080/"
        },
        "id": "c84d1192"
      },
      "outputs": [
        {
          "data": {
            "text/plain": [
              "str"
            ]
          },
          "execution_count": 11,
          "metadata": {},
          "output_type": "execute_result"
        }
      ],
      "source": [
        "type(\"3.2\")  # Check the type of a string\n"
      ]
    },
    {
      "cell_type": "markdown",
      "id": "bf6c09a3",
      "metadata": {
        "id": "bf6c09a3"
      },
      "source": [
        "### Boolean Values\n",
        "\n",
        "Sometimes, we need to represent a binary choice, like Yes/No or True/False. These are **Boolean** values, named after George Boole, a 19th-century mathematician. In Python, Booleans are represented as `True` and `False` (note the capital T and F)."
      ]
    },
    {
      "cell_type": "code",
      "execution_count": 12,
      "id": "237e95f1",
      "metadata": {
        "colab": {
          "base_uri": "https://localhost:8080/"
        },
        "id": "237e95f1"
      },
      "outputs": [
        {
          "data": {
            "text/plain": [
              "bool"
            ]
          },
          "execution_count": 12,
          "metadata": {},
          "output_type": "execute_result"
        }
      ],
      "source": [
        "type(True)  # Check the type of a Boolean"
      ]
    },
    {
      "cell_type": "markdown",
      "id": "d42db8ce",
      "metadata": {
        "id": "d42db8ce"
      },
      "source": [
        "### Special Value: None\n",
        "\n",
        "In Python, there is a special value called `None`, which represents the absence of a value. It is of type `NoneType`. You will often encounter `None` as the default return value of functions that don't explicitly return a value."
      ]
    },
    {
      "cell_type": "code",
      "execution_count": 13,
      "id": "d287595e",
      "metadata": {
        "colab": {
          "base_uri": "https://localhost:8080/"
        },
        "id": "d287595e"
      },
      "outputs": [
        {
          "data": {
            "text/plain": [
              "NoneType"
            ]
          },
          "execution_count": 13,
          "metadata": {},
          "output_type": "execute_result"
        }
      ],
      "source": [
        "type(None)  # Check the type of None"
      ]
    },
    {
      "cell_type": "markdown",
      "id": "f340121b",
      "metadata": {
        "id": "f340121b"
      },
      "source": [
        "## Printing Values\n",
        "\n",
        "Printing values is one of the simplest ways to interact with a program. The `print()` function in Python displays values or text on the screen. Below are some examples of printing different types of data."
      ]
    },
    {
      "cell_type": "code",
      "execution_count": 14,
      "id": "d0bd8836",
      "metadata": {
        "colab": {
          "base_uri": "https://localhost:8080/"
        },
        "id": "d0bd8836"
      },
      "outputs": [
        {
          "name": "stdout",
          "output_type": "stream",
          "text": [
            "74\n",
            "23.4\n",
            "Hello, world\n"
          ]
        }
      ],
      "source": [
        "print(74)  # Printing an integer\n",
        "print(23.4)  # Printing a float\n",
        "print(\"Hello, world\")  # Printing a string"
      ]
    },
    {
      "cell_type": "markdown",
      "id": "48f2e6ab",
      "metadata": {
        "id": "48f2e6ab"
      },
      "source": [
        "Be cautious when typing large integers. In Python, `1,000,000` is not a valid number because the commas are interpreted as separate items. If you want to represent a million, write `1000000`."
      ]
    },
    {
      "cell_type": "code",
      "execution_count": 12,
      "id": "408983c9",
      "metadata": {
        "colab": {
          "base_uri": "https://localhost:8080/"
        },
        "id": "408983c9"
      },
      "outputs": [
        {
          "name": "stdout",
          "output_type": "stream",
          "text": [
            "1000000.00\n"
          ]
        }
      ],
      "source": [
        "print(f\"{1_000_000:.2f}\")  # This prints each number separated by a space\n"
      ]
    },
    {
      "cell_type": "code",
      "execution_count": 14,
      "id": "9bc09e41",
      "metadata": {},
      "outputs": [
        {
          "name": "stdout",
          "output_type": "stream",
          "text": [
            "5 bananas + 5 bananas is = to 10 bananas\n"
          ]
        }
      ],
      "source": [
        "print(\"5 bananas + 5 bananas is = to\", 5 + 5, \"bananas\" )"
      ]
    },
    {
      "cell_type": "markdown",
      "id": "a64da160",
      "metadata": {
        "id": "a64da160"
      },
      "source": [
        "## Variables\n",
        "\n",
        "A **variable** is a name that refers to a value. The value stored in a variable can be accessed later by using the variable's name. Variables are created using an **assignment statement**."
      ]
    },
    {
      "cell_type": "code",
      "execution_count": 16,
      "id": "f974f103",
      "metadata": {
        "colab": {
          "base_uri": "https://localhost:8080/"
        },
        "id": "f974f103"
      },
      "outputs": [
        {
          "name": "stdout",
          "output_type": "stream",
          "text": [
            "And now for something completely different\n"
          ]
        },
        {
          "data": {
            "text/plain": [
              "str"
            ]
          },
          "execution_count": 16,
          "metadata": {},
          "output_type": "execute_result"
        }
      ],
      "source": [
        "message = 'And now for something completely different'\n",
        "print(message)  # Print the value of the variable\n",
        "type(message)  # Check the type of the variable"
      ]
    },
    {
      "cell_type": "markdown",
      "id": "42e14d3f",
      "metadata": {
        "id": "42e14d3f"
      },
      "source": [
        "### Variable Names and Keywords\n",
        "\n",
        "Variable names can be of any length and can include letters and numbers, but they must begin with a letter (a-z, A-Z) or an underscore (`_`). Python keywords, like `class`, `for`, `return`, and `continue`, cannot be used as variable names. Keywords have special meaning in Python, so using them as variable names will result in errors."
      ]
    },
    {
      "cell_type": "code",
      "execution_count": 19,
      "id": "42348ed2",
      "metadata": {
        "colab": {
          "base_uri": "https://localhost:8080/",
          "height": 106
        },
        "id": "42348ed2"
      },
      "outputs": [
        {
          "ename": "SyntaxError",
          "evalue": "invalid decimal literal (<ipython-input-19-5a1ea2bbf78b>, line 3)",
          "output_type": "error",
          "traceback": [
            "\u001b[0;36m  File \u001b[0;32m\"<ipython-input-19-5a1ea2bbf78b>\"\u001b[0;36m, line \u001b[0;32m3\u001b[0m\n\u001b[0;31m    76trombones = 'big parade'  # Illegal: starts with a number\u001b[0m\n\u001b[0m     ^\u001b[0m\n\u001b[0;31mSyntaxError\u001b[0m\u001b[0;31m:\u001b[0m invalid decimal literal\n"
          ]
        }
      ],
      "source": [
        "# Examples of legal and illegal variable names\n",
        "legal_variable = 42  # Legal\n",
        "76trombones = 'big parade'  # Illegal: starts with a number\n",
        "more@ = 1000000  # Illegal: contains an illegal character\n",
        "class = 'Advanced Theoretical Zymurgy'  # Illegal: class is a keyword\n"
      ]
    },
    {
      "cell_type": "markdown",
      "id": "84cbaf95",
      "metadata": {
        "id": "84cbaf95"
      },
      "source": [
        "## Statements\n",
        "\n",
        "A **statement** is an instruction that the Python interpreter can execute. We have already seen two kinds of statements: the `print()` statement and the assignment statement."
      ]
    },
    {
      "cell_type": "code",
      "execution_count": 20,
      "id": "e3c5daad",
      "metadata": {
        "colab": {
          "base_uri": "https://localhost:8080/"
        },
        "id": "e3c5daad"
      },
      "outputs": [
        {
          "name": "stdout",
          "output_type": "stream",
          "text": [
            "1\n",
            "2\n"
          ]
        }
      ],
      "source": [
        "print(1)\n",
        "x = 2\n",
        "print(x)"
      ]
    },
    {
      "cell_type": "markdown",
      "id": "U3o7-fPj0xOf",
      "metadata": {
        "id": "U3o7-fPj0xOf"
      },
      "source": [
        "Here, the variable `x` is assigned the value `2`. The assignment statement does not produce any output. The `print()` statement is used to display the value of `x`."
      ]
    },
    {
      "cell_type": "markdown",
      "id": "813268c2",
      "metadata": {
        "id": "813268c2"
      },
      "source": [
        "## Operators and Operands\n",
        "\n",
        "Operators are symbols that represent computations like addition (`+`) and multiplication (`*`). The values that the operator is applied to are called operands. Let's explore some basic arithmetic operations."
      ]
    },
    {
      "cell_type": "code",
      "execution_count": 24,
      "id": "893586ce",
      "metadata": {
        "colab": {
          "base_uri": "https://localhost:8080/"
        },
        "id": "893586ce"
      },
      "outputs": [
        {
          "data": {
            "text/plain": [
              "112"
            ]
          },
          "execution_count": 24,
          "metadata": {},
          "output_type": "execute_result"
        }
      ],
      "source": [
        "20 + 32  # Addition\n",
        "hour = 9\n",
        "minute = 45\n",
        "hour - 1  # Subtraction\n",
        "hour * 60 + minute  # Multiplication and addition\n",
        "minute / 60  # Division\n",
        "5 ** 2  # Exponentiation\n",
        "(5 + 9) * (15 - 7)  # Multiple operations with parentheses"
      ]
    },
    {
      "cell_type": "markdown",
      "id": "tMgHoVAUvV0m",
      "metadata": {
        "id": "tMgHoVAUvV0m"
      },
      "source": [
        "In an interactive Python environment like Google Colab, only the last evaluated expression in a cell is displayed by default. If you want to see all the results, use the `print()` function for each expression."
      ]
    },
    {
      "cell_type": "code",
      "execution_count": 25,
      "id": "kUGMPA2nvbEE",
      "metadata": {
        "colab": {
          "base_uri": "https://localhost:8080/"
        },
        "id": "kUGMPA2nvbEE",
        "outputId": "3331f8d5-42b7-4a4d-c6b7-eb44fd8fd3d9"
      },
      "outputs": [
        {
          "name": "stdout",
          "output_type": "stream",
          "text": [
            "52\n",
            "8\n",
            "585\n",
            "0.75\n",
            "25\n",
            "112\n"
          ]
        }
      ],
      "source": [
        "print(20 + 32)\n",
        "hour = 9\n",
        "minute = 45\n",
        "print(hour - 1)\n",
        "print(hour * 60 + minute)\n",
        "print(minute / 60)\n",
        "print(5 ** 2)\n",
        "print((5 + 9) * (15 - 7))"
      ]
    },
    {
      "cell_type": "markdown",
      "id": "e2c1e77b",
      "metadata": {
        "id": "e2c1e77b"
      },
      "source": [
        "## Expressions\n",
        "\n",
        "An **expression** is a combination of values, variables, and operators that, when evaluated, produces a value. A single value or a variable on its own is also considered an expression."
      ]
    },
    {
      "cell_type": "code",
      "execution_count": 27,
      "id": "0fc005c9",
      "metadata": {
        "colab": {
          "base_uri": "https://localhost:8080/"
        },
        "id": "0fc005c9",
        "outputId": "57c6ab6e-1522-452c-efc7-4f41ca53f97b"
      },
      "outputs": [
        {
          "name": "stdout",
          "output_type": "stream",
          "text": [
            "22\n",
            "2\n"
          ]
        }
      ],
      "source": [
        "17  # An expression (a literal value)\n",
        "x = 5  # Assignment statement\n",
        "print(x + 17)  # Expression involving a variable\n",
        "print(1 + 1)  # Simple arithmetic expression"
      ]
    },
    {
      "cell_type": "markdown",
      "id": "11b761f6",
      "metadata": {
        "id": "11b761f6"
      },
      "source": [
        "## Order of Operations\n",
        "\n",
        "When an expression contains multiple operators, the order of evaluation depends on operator precedence. The acronym **PEMDAS** can help you remember the order:\n",
        "- **P**arentheses\n",
        "- **E**xponentiation\n",
        "- **M**ultiplication and **D**ivision (from left to right)\n",
        "- **A**ddition and **S**ubtraction (from left to right)"
      ]
    },
    {
      "cell_type": "code",
      "execution_count": 28,
      "id": "fd112ffd",
      "metadata": {
        "colab": {
          "base_uri": "https://localhost:8080/"
        },
        "id": "fd112ffd",
        "outputId": "ae54ed2e-f757-4ffa-fec4-15f766b35110"
      },
      "outputs": [
        {
          "data": {
            "text/plain": [
              "4"
            ]
          },
          "execution_count": 28,
          "metadata": {},
          "output_type": "execute_result"
        }
      ],
      "source": [
        "2 * (3 - 1)  # Parentheses ensure subtraction happens before multiplication"
      ]
    },
    {
      "cell_type": "code",
      "execution_count": 29,
      "id": "e7035cc0",
      "metadata": {
        "colab": {
          "base_uri": "https://localhost:8080/"
        },
        "id": "e7035cc0",
        "outputId": "6542834b-b325-49cc-ab36-845996dae590"
      },
      "outputs": [
        {
          "data": {
            "text/plain": [
              "8"
            ]
          },
          "execution_count": 29,
          "metadata": {},
          "output_type": "execute_result"
        }
      ],
      "source": [
        "(1 + 1) ** (5 - 2)  # Exponentiation occurs after parentheses"
      ]
    },
    {
      "cell_type": "code",
      "execution_count": 30,
      "id": "c5ed199c",
      "metadata": {
        "colab": {
          "base_uri": "https://localhost:8080/"
        },
        "id": "c5ed199c",
        "outputId": "bb6c6681-a7d1-45a8-f431-ad66f2d0a19c"
      },
      "outputs": [
        {
          "data": {
            "text/plain": [
              "3"
            ]
          },
          "execution_count": 30,
          "metadata": {},
          "output_type": "execute_result"
        }
      ],
      "source": [
        "2 ** 1 + 1  # Exponentiation happens first, followed by addition"
      ]
    },
    {
      "cell_type": "code",
      "execution_count": 31,
      "id": "d6d92702",
      "metadata": {
        "colab": {
          "base_uri": "https://localhost:8080/"
        },
        "id": "d6d92702",
        "outputId": "585b5011-3415-4994-be18-9e5b8a4594d7"
      },
      "outputs": [
        {
          "data": {
            "text/plain": [
              "3"
            ]
          },
          "execution_count": 31,
          "metadata": {},
          "output_type": "execute_result"
        }
      ],
      "source": [
        "3 * 1 ** 3  # Exponentiation occurs before multiplication"
      ]
    },
    {
      "cell_type": "code",
      "execution_count": 32,
      "id": "49f563c0",
      "metadata": {
        "colab": {
          "base_uri": "https://localhost:8080/"
        },
        "id": "49f563c0",
        "outputId": "de96cbb2-c4c3-49e1-dfb2-e9a8ea6d2b98"
      },
      "outputs": [
        {
          "data": {
            "text/plain": [
              "5"
            ]
          },
          "execution_count": 32,
          "metadata": {},
          "output_type": "execute_result"
        }
      ],
      "source": [
        "2 * 3 - 1  # Multiplication happens before subtraction"
      ]
    },
    {
      "cell_type": "code",
      "execution_count": 33,
      "id": "deb8ef1f",
      "metadata": {
        "colab": {
          "base_uri": "https://localhost:8080/"
        },
        "id": "deb8ef1f",
        "outputId": "5db48c61-7469-4f4b-9a6e-da6b5b9d7e88"
      },
      "outputs": [
        {
          "data": {
            "text/plain": [
              "8.0"
            ]
          },
          "execution_count": 33,
          "metadata": {},
          "output_type": "execute_result"
        }
      ],
      "source": [
        "6 + 4 / 2  # Division happens before addition"
      ]
    },
    {
      "cell_type": "code",
      "execution_count": 34,
      "id": "9d273ab8",
      "metadata": {
        "colab": {
          "base_uri": "https://localhost:8080/"
        },
        "id": "9d273ab8",
        "outputId": "43c31f61-5553-43e1-bea4-516754fa5013"
      },
      "outputs": [
        {
          "data": {
            "text/plain": [
              "1"
            ]
          },
          "execution_count": 34,
          "metadata": {},
          "output_type": "execute_result"
        }
      ],
      "source": [
        "5 - 3 - 1  # Subtraction is performed left to right"
      ]
    },
    {
      "cell_type": "markdown",
      "id": "1fa18964",
      "metadata": {
        "id": "1fa18964"
      },
      "source": [
        "## Modulus Operator\n",
        "\n",
        "The **modulus operator** (`%`) returns the remainder of the division between two numbers. This can be useful in various situations, such as checking if a number is even or odd."
      ]
    },
    {
      "cell_type": "code",
      "execution_count": 35,
      "id": "5a0b6051",
      "metadata": {
        "colab": {
          "base_uri": "https://localhost:8080/"
        },
        "id": "5a0b6051"
      },
      "outputs": [
        {
          "name": "stdout",
          "output_type": "stream",
          "text": [
            "2\n",
            "1\n"
          ]
        }
      ],
      "source": [
        "quotient = 7 // 3  # Floor division\n",
        "remainder = 7 % 3  # Modulus operation\n",
        "print(quotient)  # Prints 2\n",
        "print(remainder)  # Prints 1"
      ]
    },
    {
      "cell_type": "code",
      "execution_count": 16,
      "id": "18ffa761",
      "metadata": {},
      "outputs": [
        {
          "data": {
            "text/plain": [
              "0"
            ]
          },
          "execution_count": 16,
          "metadata": {},
          "output_type": "execute_result"
        }
      ],
      "source": [
        "6 % 2"
      ]
    },
    {
      "cell_type": "markdown",
      "id": "624e7255",
      "metadata": {
        "id": "624e7255"
      },
      "source": [
        "## String Operations\n",
        "\n",
        "The `+` operator works with strings, but instead of adding, it **concatenates** (joins) the strings together. The `*` operator can repeat a string a specified number of times."
      ]
    },
    {
      "cell_type": "code",
      "execution_count": 36,
      "id": "a5442109",
      "metadata": {
        "colab": {
          "base_uri": "https://localhost:8080/"
        },
        "id": "a5442109"
      },
      "outputs": [
        {
          "name": "stdout",
          "output_type": "stream",
          "text": [
            "25\n"
          ]
        }
      ],
      "source": [
        "first = 10\n",
        "second = 15\n",
        "print(first + second)  # Addition of numbers"
      ]
    },
    {
      "cell_type": "code",
      "execution_count": 37,
      "id": "b0a1d9ff",
      "metadata": {
        "colab": {
          "base_uri": "https://localhost:8080/"
        },
        "id": "b0a1d9ff"
      },
      "outputs": [
        {
          "name": "stdout",
          "output_type": "stream",
          "text": [
            "100150\n"
          ]
        }
      ],
      "source": [
        "first = '100'\n",
        "second = '150'\n",
        "print(first + second)  # Concatenation of strings"
      ]
    },
    {
      "cell_type": "code",
      "execution_count": 38,
      "id": "449a42bf",
      "metadata": {
        "colab": {
          "base_uri": "https://localhost:8080/"
        },
        "id": "449a42bf"
      },
      "outputs": [
        {
          "name": "stdout",
          "output_type": "stream",
          "text": [
            "Test Test Test \n"
          ]
        }
      ],
      "source": [
        "first = 'Test '\n",
        "second = 3\n",
        "print(first * second)  # Repeat the string three times"
      ]
    },
    {
      "cell_type": "code",
      "execution_count": 39,
      "id": "2b96af13",
      "metadata": {
        "colab": {
          "base_uri": "https://localhost:8080/",
          "height": 159
        },
        "id": "2b96af13",
        "outputId": "39f4f729-900e-4bc2-ae79-06465fdec80b"
      },
      "outputs": [
        {
          "ename": "TypeError",
          "evalue": "unsupported operand type(s) for -: 'str' and 'str'",
          "output_type": "error",
          "traceback": [
            "\u001b[0;31m---------------------------------------------------------------------------\u001b[0m",
            "\u001b[0;31mTypeError\u001b[0m                                 Traceback (most recent call last)",
            "\u001b[0;32m<ipython-input-39-8d43738dc272>\u001b[0m in \u001b[0;36m<cell line: 2>\u001b[0;34m()\u001b[0m\n\u001b[1;32m      1\u001b[0m \u001b[0;31m# This will break!\u001b[0m\u001b[0;34m\u001b[0m\u001b[0;34m\u001b[0m\u001b[0m\n\u001b[0;32m----> 2\u001b[0;31m \u001b[0mprint\u001b[0m\u001b[0;34m(\u001b[0m\u001b[0;34m\"Can't subtract\"\u001b[0m \u001b[0;34m-\u001b[0m \u001b[0;34m\"strings\"\u001b[0m\u001b[0;34m)\u001b[0m\u001b[0;34m\u001b[0m\u001b[0;34m\u001b[0m\u001b[0m\n\u001b[0m",
            "\u001b[0;31mTypeError\u001b[0m: unsupported operand type(s) for -: 'str' and 'str'"
          ]
        }
      ],
      "source": [
        "# This will break!\n",
        "print(\"Can't subtract\" - \"strings\")"
      ]
    },
    {
      "cell_type": "markdown",
      "id": "81e5fd2b",
      "metadata": {
        "id": "81e5fd2b"
      },
      "source": [
        "The type of a value determines what operations you can perform on it. For example, you can add or subtract numbers, but you cannot subtract strings. Understanding types is crucial for preventing and debugging errors in your programs."
      ]
    },
    {
      "cell_type": "markdown",
      "id": "9fcbb9e5",
      "metadata": {
        "id": "9fcbb9e5"
      },
      "source": [
        "## Asking the User for Input\n",
        "\n",
        "Python provides the `input()` function to get input from the user. When called, the program pauses and waits for the user to type something. The input is always returned as a string, even if it looks like a number."
      ]
    },
    {
      "cell_type": "code",
      "execution_count": 40,
      "id": "09bfcaa7",
      "metadata": {
        "colab": {
          "base_uri": "https://localhost:8080/"
        },
        "id": "09bfcaa7",
        "outputId": "bc1ccbbf-0e28-4ff1-d154-7729a7e95598"
      },
      "outputs": [
        {
          "name": "stdout",
          "output_type": "stream",
          "text": [
            "Python\n",
            "Python\n"
          ]
        }
      ],
      "source": [
        "inp = input()\n",
        "print(inp)  # Displays what the user types"
      ]
    },
    {
      "cell_type": "code",
      "execution_count": 41,
      "id": "9bd5f80c",
      "metadata": {
        "colab": {
          "base_uri": "https://localhost:8080/"
        },
        "id": "9bd5f80c",
        "outputId": "77a98040-dcaf-49ca-d2ce-df157c5df43e"
      },
      "outputs": [
        {
          "name": "stdout",
          "output_type": "stream",
          "text": [
            "What is your name?\n",
            "Lin\n",
            "Lin\n"
          ]
        }
      ],
      "source": [
        "name = input('What is your name?\\n')\n",
        "print(name)  # Displays the user's name"
      ]
    },
    {
      "cell_type": "code",
      "execution_count": 44,
      "id": "eba82bfe",
      "metadata": {
        "colab": {
          "base_uri": "https://localhost:8080/",
          "height": 211
        },
        "id": "eba82bfe",
        "outputId": "8083db4e-3d73-499b-b6e7-0d25b94eb022"
      },
      "outputs": [
        {
          "name": "stdout",
          "output_type": "stream",
          "text": [
            "What...is the airspeed velocity of an unladen swallow?\n",
            "speed\n"
          ]
        },
        {
          "ename": "ValueError",
          "evalue": "invalid literal for int() with base 10: 'speed'",
          "output_type": "error",
          "traceback": [
            "\u001b[0;31m---------------------------------------------------------------------------\u001b[0m",
            "\u001b[0;31mValueError\u001b[0m                                Traceback (most recent call last)",
            "\u001b[0;32m<ipython-input-44-a27f77f8088f>\u001b[0m in \u001b[0;36m<cell line: 3>\u001b[0;34m()\u001b[0m\n\u001b[1;32m      1\u001b[0m \u001b[0mprompt\u001b[0m \u001b[0;34m=\u001b[0m \u001b[0;34m'What...is the airspeed velocity of an unladen swallow?\\n'\u001b[0m\u001b[0;34m\u001b[0m\u001b[0;34m\u001b[0m\u001b[0m\n\u001b[1;32m      2\u001b[0m \u001b[0mspeed\u001b[0m \u001b[0;34m=\u001b[0m \u001b[0minput\u001b[0m\u001b[0;34m(\u001b[0m\u001b[0mprompt\u001b[0m\u001b[0;34m)\u001b[0m\u001b[0;34m\u001b[0m\u001b[0;34m\u001b[0m\u001b[0m\n\u001b[0;32m----> 3\u001b[0;31m \u001b[0mprint\u001b[0m\u001b[0;34m(\u001b[0mint\u001b[0m\u001b[0;34m(\u001b[0mspeed\u001b[0m\u001b[0;34m)\u001b[0m \u001b[0;34m+\u001b[0m \u001b[0;36m5\u001b[0m\u001b[0;34m)\u001b[0m \u001b[0;31m# try with integer and string\u001b[0m\u001b[0;34m\u001b[0m\u001b[0;34m\u001b[0m\u001b[0m\n\u001b[0m",
            "\u001b[0;31mValueError\u001b[0m: invalid literal for int() with base 10: 'speed'"
          ]
        }
      ],
      "source": [
        "prompt = 'What...is the airspeed velocity of an unladen swallow?\\n'\n",
        "speed = input(prompt)\n",
        "print(int(speed) + 5)  # Attempt to convert to an integer"
      ]
    },
    {
      "cell_type": "markdown",
      "id": "26595987",
      "metadata": {
        "id": "26595987"
      },
      "source": [
        "## Comments\n",
        "\n",
        "As programs get more complex, it's important to add comments explaining what your code does. Comments are ignored by Python, but they help you and others understand your code."
      ]
    },
    {
      "cell_type": "code",
      "execution_count": 45,
      "id": "4657b393",
      "metadata": {
        "colab": {
          "base_uri": "https://localhost:8080/"
        },
        "id": "4657b393",
        "outputId": "70591739-f8f2-4a11-86d8-d31bd32eab26"
      },
      "outputs": [
        {
          "name": "stdout",
          "output_type": "stream",
          "text": [
            "75.0\n"
          ]
        }
      ],
      "source": [
        "# This is a comment\n",
        "percentage = (minute * 100) / 60  # Calculate the percentage of an hour\n",
        "print(percentage)"
      ]
    },
    {
      "cell_type": "markdown",
      "id": "45c732dc",
      "metadata": {
        "id": "45c732dc"
      },
      "source": [
        "## Choosing Mnemonic Variable Names\n",
        "\n",
        "Choose variable names that make your code easier to understand. Good variable names can make a program almost self-documenting."
      ]
    },
    {
      "cell_type": "code",
      "execution_count": 47,
      "id": "sSVcASEJyofO",
      "metadata": {
        "colab": {
          "base_uri": "https://localhost:8080/"
        },
        "id": "sSVcASEJyofO",
        "outputId": "608db129-69e3-4159-8a21-2a7d98804364"
      },
      "outputs": [
        {
          "name": "stdout",
          "output_type": "stream",
          "text": [
            "437.5\n"
          ]
        }
      ],
      "source": [
        "x1q3z9ahd = 35.0\n",
        "x1q3z9afd = 12.50\n",
        "x1q3p9afd = x1q3z9ahd * x1q3z9afd\n",
        "print(x1q3p9afd)  # This is hard to read!"
      ]
    },
    {
      "cell_type": "code",
      "execution_count": 46,
      "id": "484e8195",
      "metadata": {
        "colab": {
          "base_uri": "https://localhost:8080/"
        },
        "id": "484e8195",
        "outputId": "545346d0-35ae-4df7-afe0-ea6b18538209"
      },
      "outputs": [
        {
          "name": "stdout",
          "output_type": "stream",
          "text": [
            "437.5\n"
          ]
        }
      ],
      "source": [
        "hours = 35.0\n",
        "rate = 12.50\n",
        "pay = hours * rate  # Calculate the total pay\n",
        "print(pay)"
      ]
    },
    {
      "cell_type": "markdown",
      "id": "ZfMxtonQyqR3",
      "metadata": {
        "id": "ZfMxtonQyqR3"
      },
      "source": [
        "The Python interpreter treats these two programs as exactly the same, but the first version is much easier for humans to read and understand. This is why choosing meaningful variable names is important."
      ]
    },
    {
      "cell_type": "markdown",
      "id": "56391927",
      "metadata": {
        "id": "56391927"
      },
      "source": [
        "## Debugging\n",
        "\n",
        "At this stage, the most common errors you will encounter are **SyntaxErrors** due to illegal variable names (e.g., using a keyword like `class` as a variable name) or **NameErrors** from trying to use a variable before it has been defined."
      ]
    },
    {
      "cell_type": "markdown",
      "id": "51b161b4",
      "metadata": {
        "id": "TQXoiHuCwQlg"
      },
      "source": [
        "Debugging is the process of identifying and fixing errors in your code. Here are some strategies:\n",
        "\n",
        "- **Reading:** Carefully examine your code, and read it back to yourself.\n",
        "- **Running:** Experiment by making small changes and running different versions to isolate the problem.\n",
        "- **Ruminating:** Take time to think about the error type and gather as much information as possible.\n",
        "- **Retreating:** If necessary, undo recent changes until you return to a working state, then rebuild."
      ]
    },
    {
      "cell_type": "code",
      "execution_count": 48,
      "id": "a68326af",
      "metadata": {
        "colab": {
          "base_uri": "https://localhost:8080/",
          "height": 176
        },
        "id": "a68326af",
        "outputId": "a24d903f-7797-4e87-8c4c-41c4a3aa9654"
      },
      "outputs": [
        {
          "ename": "NameError",
          "evalue": "name 'principle' is not defined",
          "output_type": "error",
          "traceback": [
            "\u001b[0;31m---------------------------------------------------------------------------\u001b[0m",
            "\u001b[0;31mNameError\u001b[0m                                 Traceback (most recent call last)",
            "\u001b[0;32m<ipython-input-48-692c8b6fef60>\u001b[0m in \u001b[0;36m<cell line: 3>\u001b[0;34m()\u001b[0m\n\u001b[1;32m      1\u001b[0m \u001b[0;31m# Example of a NameError\u001b[0m\u001b[0;34m\u001b[0m\u001b[0;34m\u001b[0m\u001b[0m\n\u001b[1;32m      2\u001b[0m \u001b[0mprincipal\u001b[0m \u001b[0;34m=\u001b[0m \u001b[0;36m327.68\u001b[0m\u001b[0;34m\u001b[0m\u001b[0;34m\u001b[0m\u001b[0m\n\u001b[0;32m----> 3\u001b[0;31m \u001b[0minterest\u001b[0m \u001b[0;34m=\u001b[0m \u001b[0mprinciple\u001b[0m \u001b[0;34m*\u001b[0m \u001b[0mrate\u001b[0m  \u001b[0;31m# Note the typo\u001b[0m\u001b[0;34m\u001b[0m\u001b[0;34m\u001b[0m\u001b[0m\n\u001b[0m",
            "\u001b[0;31mNameError\u001b[0m: name 'principle' is not defined"
          ]
        }
      ],
      "source": [
        "# Example of a NameError\n",
        "principal = 327.68\n",
        "interest = principle * rate  # Note the typo"
      ]
    },
    {
      "cell_type": "code",
      "execution_count": 52,
      "id": "MhWkXQHdzZ1H",
      "metadata": {
        "colab": {
          "base_uri": "https://localhost:8080/",
          "height": 106
        },
        "id": "MhWkXQHdzZ1H",
        "outputId": "90e43bc2-cec9-47ca-dbf1-68fd9e8486bd"
      },
      "outputs": [
        {
          "ename": "SyntaxError",
          "evalue": "invalid syntax (<ipython-input-52-e55a2aa066b2>, line 1)",
          "output_type": "error",
          "traceback": [
            "\u001b[0;36m  File \u001b[0;32m\"<ipython-input-52-e55a2aa066b2>\"\u001b[0;36m, line \u001b[0;32m1\u001b[0m\n\u001b[0;31m    bad name = 5\u001b[0m\n\u001b[0m        ^\u001b[0m\n\u001b[0;31mSyntaxError\u001b[0m\u001b[0;31m:\u001b[0m invalid syntax\n"
          ]
        }
      ],
      "source": [
        "bad name = 5\n",
        "# If you put a space in a variable name, Python thinks it is two operands without an operator:"
      ]
    },
    {
      "cell_type": "markdown",
      "id": "iwSZaB3-0B6P",
      "metadata": {
        "id": "iwSZaB3-0B6P"
      },
      "source": [
        "Variables names are case sensitive, so `LaTeX` is not the same as `latex`."
      ]
    }
  ],
  "metadata": {
    "colab": {
      "provenance": []
    },
    "kernelspec": {
      "display_name": "Python 3",
      "language": "python",
      "name": "python3"
    },
    "language_info": {
      "codemirror_mode": {
        "name": "ipython",
        "version": 3
      },
      "file_extension": ".py",
      "mimetype": "text/x-python",
      "name": "python",
      "nbconvert_exporter": "python",
      "pygments_lexer": "ipython3",
      "version": "3.12.1"
    }
  },
  "nbformat": 4,
  "nbformat_minor": 5
}
