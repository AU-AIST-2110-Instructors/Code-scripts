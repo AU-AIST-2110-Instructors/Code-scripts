{
  "cells": [
    {
      "cell_type": "markdown",
      "id": "af39cecb",
      "metadata": {
        "id": "af39cecb"
      },
      "source": [
        "# Chapter 2: Variables\n",
        "\n",
        "This notebook covers basic concepts of variables, expressions, statements, and types in Python."
      ]
    },
    {
      "cell_type": "markdown",
      "id": "29f42303",
      "metadata": {
        "id": "29f42303"
      },
      "source": [
        "## Values and Types\n",
        "A value is one of the basic things a program works with, like a letter or a number. The values can be numbers like 1, 2, 3.5, or letters like `\"Hello, World!\"`\n",
        "\n",
        "These values belong to different types: 2 is an integer, 3.5 is a float, that allows for decimal numbers and more precise calculations, and `\"Hello, World!\"` is a string, so called because it contains a string of letters. You (and the interpreter) can identify strings because they are enclosed in quotation marks."
      ]
    },
    {
      "cell_type": "code",
      "execution_count": 1,
      "id": "afbfa20d",
      "metadata": {
        "id": "afbfa20d",
        "outputId": "77dadd08-139e-4b14-f320-4f0ebe5c8ffb",
        "colab": {
          "base_uri": "https://localhost:8080/"
        }
      },
      "outputs": [
        {
          "output_type": "execute_result",
          "data": {
            "text/plain": [
              "4"
            ]
          },
          "metadata": {},
          "execution_count": 1
        }
      ],
      "source": [
        "4\n"
      ]
    },
    {
      "cell_type": "code",
      "execution_count": 2,
      "id": "61ea6d6e",
      "metadata": {
        "id": "61ea6d6e",
        "outputId": "3d2bcafd-8331-42c6-e1c0-ed0f35723658",
        "colab": {
          "base_uri": "https://localhost:8080/"
        }
      },
      "outputs": [
        {
          "output_type": "execute_result",
          "data": {
            "text/plain": [
              "3.5"
            ]
          },
          "metadata": {},
          "execution_count": 2
        }
      ],
      "source": [
        "3.5"
      ]
    },
    {
      "cell_type": "code",
      "execution_count": 3,
      "id": "e72134b1",
      "metadata": {
        "id": "e72134b1",
        "outputId": "dacbc277-c1ca-467e-949a-bc3407ba3829",
        "colab": {
          "base_uri": "https://localhost:8080/",
          "height": 35
        }
      },
      "outputs": [
        {
          "output_type": "execute_result",
          "data": {
            "text/plain": [
              "'Hello, World!'"
            ],
            "application/vnd.google.colaboratory.intrinsic+json": {
              "type": "string"
            }
          },
          "metadata": {},
          "execution_count": 3
        }
      ],
      "source": [
        "'Hello, World!'"
      ]
    },
    {
      "cell_type": "markdown",
      "id": "77485aed",
      "metadata": {
        "id": "77485aed"
      },
      "source": [
        "Integer types are whole numbers. They include both negative and positive numbers, so there are a lot of them. Integer is often shortened to \"int\" for convenience."
      ]
    },
    {
      "cell_type": "code",
      "execution_count": 4,
      "id": "a7f47ae7",
      "metadata": {
        "id": "a7f47ae7",
        "outputId": "2b989266-0167-499b-d5d3-d56ecf504b28",
        "colab": {
          "base_uri": "https://localhost:8080/"
        }
      },
      "outputs": [
        {
          "output_type": "execute_result",
          "data": {
            "text/plain": [
              "int"
            ]
          },
          "metadata": {},
          "execution_count": 4
        }
      ],
      "source": [
        "\n",
        "type(4)  # Check the type of an integer"
      ]
    },
    {
      "cell_type": "code",
      "execution_count": 5,
      "id": "1aeafa9a",
      "metadata": {
        "id": "1aeafa9a",
        "colab": {
          "base_uri": "https://localhost:8080/"
        },
        "outputId": "33164ca8-7cd7-4561-cd0d-b910c2c54c53"
      },
      "outputs": [
        {
          "output_type": "stream",
          "name": "stdout",
          "text": [
            "-1024\n",
            "-55\n",
            "0\n",
            "1\n",
            "13\n",
            "1737\n"
          ]
        }
      ],
      "source": [
        "print(-1024)\n",
        "print(-55)\n",
        "print(0)\n",
        "print(1)\n",
        "print(13)\n",
        "print(1737)"
      ]
    },
    {
      "cell_type": "markdown",
      "id": "0b3234bc",
      "metadata": {
        "id": "0b3234bc"
      },
      "source": [
        "When numbers have decimals, we call them float types. The decimal is what distinguishes floats and integers. Remember: if a number has a period in it, then it is a float! Even if a number seems to be a whole number, Python will consider the number to be a float so long as there is a decimal somewhere in the number."
      ]
    },
    {
      "cell_type": "code",
      "execution_count": 6,
      "id": "f5dd25ab",
      "metadata": {
        "id": "f5dd25ab",
        "outputId": "3e49c1a8-2c86-4cc5-ddd3-909b2a540357",
        "colab": {
          "base_uri": "https://localhost:8080/"
        }
      },
      "outputs": [
        {
          "output_type": "execute_result",
          "data": {
            "text/plain": [
              "float"
            ]
          },
          "metadata": {},
          "execution_count": 6
        }
      ],
      "source": [
        "\n",
        "type(3.5)  # Check the type of a float"
      ]
    },
    {
      "cell_type": "code",
      "execution_count": 7,
      "id": "9ec9c9a5",
      "metadata": {
        "id": "9ec9c9a5",
        "colab": {
          "base_uri": "https://localhost:8080/"
        },
        "outputId": "e2e6036f-e453-438a-c367-3166d8091f0d"
      },
      "outputs": [
        {
          "output_type": "stream",
          "name": "stdout",
          "text": [
            "-56.4\n",
            "-1.0\n",
            "0.0\n",
            "0.5\n",
            "1.02\n",
            "100.0\n"
          ]
        }
      ],
      "source": [
        "print(-56.4)\n",
        "print(-1.0)\n",
        "print(.0)\n",
        "print(0.5)\n",
        "print(1.02)\n",
        "print(100.)"
      ]
    },
    {
      "cell_type": "markdown",
      "id": "c529cb5f",
      "metadata": {
        "id": "c529cb5f"
      },
      "source": [
        "Text data is represented using string values. The tricky thing about strings is that anything can be stored as a string. The only thing that makes it a string is the quotes. A special case is the \"empty string,\" which is a pair of quotes with nothing inside. String is often shorted to \"str\" for convenience."
      ]
    },
    {
      "cell_type": "code",
      "execution_count": 8,
      "id": "8c4b0f19",
      "metadata": {
        "id": "8c4b0f19",
        "outputId": "06b64142-9e10-44c7-a700-43185f80215d",
        "colab": {
          "base_uri": "https://localhost:8080/"
        }
      },
      "outputs": [
        {
          "output_type": "execute_result",
          "data": {
            "text/plain": [
              "str"
            ]
          },
          "metadata": {},
          "execution_count": 8
        }
      ],
      "source": [
        "type('Hello, World!')  # Check the type of a string"
      ]
    },
    {
      "cell_type": "code",
      "execution_count": 9,
      "id": "b01a7905",
      "metadata": {
        "id": "b01a7905",
        "outputId": "74f02623-5d31-46fa-874c-8b9efbc4e027",
        "colab": {
          "base_uri": "https://localhost:8080/"
        }
      },
      "outputs": [
        {
          "output_type": "stream",
          "name": "stdout",
          "text": [
            "My name is Anna\n",
            "\n",
            "Doggo\n",
            "Four score and seven years ago...\n"
          ]
        }
      ],
      "source": [
        "print(\"My name is Anna\")\n",
        "print(\"\")\n",
        "print('Doggo')\n",
        "print(\"Four score and seven years ago...\")"
      ]
    },
    {
      "cell_type": "markdown",
      "id": "dde181d4",
      "metadata": {
        "id": "dde181d4"
      },
      "source": [
        "Values like `'17'` and `'3.2'` look like numbers, but they are in quotation marks like strings."
      ]
    },
    {
      "cell_type": "code",
      "execution_count": 10,
      "id": "810ad2c4",
      "metadata": {
        "id": "810ad2c4",
        "outputId": "d12f28b4-1d31-4dd5-8eaa-3e9d6d3b4569",
        "colab": {
          "base_uri": "https://localhost:8080/"
        }
      },
      "outputs": [
        {
          "output_type": "execute_result",
          "data": {
            "text/plain": [
              "str"
            ]
          },
          "metadata": {},
          "execution_count": 10
        }
      ],
      "source": [
        "type('17')  # Check the type of a string\n"
      ]
    },
    {
      "cell_type": "code",
      "execution_count": 11,
      "id": "c84d1192",
      "metadata": {
        "id": "c84d1192",
        "outputId": "e34bfa86-1f4a-4c29-909d-d2bb613c8722",
        "colab": {
          "base_uri": "https://localhost:8080/"
        }
      },
      "outputs": [
        {
          "output_type": "execute_result",
          "data": {
            "text/plain": [
              "str"
            ]
          },
          "metadata": {},
          "execution_count": 11
        }
      ],
      "source": [
        "type('3.2')  # Check the type of a string\n"
      ]
    },
    {
      "cell_type": "markdown",
      "id": "bf6c09a3",
      "metadata": {
        "id": "bf6c09a3"
      },
      "source": [
        "Surprisingly often in programming, we are faced with \"yes or no\" values. These two values are referred to as Boolean values. Specifically, we have a True and a False value. Note that the T and F are capitalized, and there are no quotes around the words. Booleans are different from strings! Boolean is often shortened to \"bool\" for convenience."
      ]
    },
    {
      "cell_type": "code",
      "execution_count": 12,
      "id": "237e95f1",
      "metadata": {
        "id": "237e95f1",
        "outputId": "4019453f-a6c6-4244-a54c-de8befa89fc1",
        "colab": {
          "base_uri": "https://localhost:8080/"
        }
      },
      "outputs": [
        {
          "output_type": "execute_result",
          "data": {
            "text/plain": [
              "bool"
            ]
          },
          "metadata": {},
          "execution_count": 12
        }
      ],
      "source": [
        "type(True)"
      ]
    },
    {
      "cell_type": "markdown",
      "id": "d42db8ce",
      "metadata": {
        "id": "d42db8ce"
      },
      "source": [
        "Sometimes, you need to represent the absence of value, which we call \"None.\" The None type is a special type that has only one value. The None type can be hard to wrap your head around, so we'll save that one for later. For now, just remember that it has a capital N and no quotes."
      ]
    },
    {
      "cell_type": "code",
      "execution_count": 13,
      "id": "d287595e",
      "metadata": {
        "id": "d287595e",
        "outputId": "76fddd30-7d80-4bec-8237-7549f4094dc7",
        "colab": {
          "base_uri": "https://localhost:8080/"
        }
      },
      "outputs": [
        {
          "output_type": "execute_result",
          "data": {
            "text/plain": [
              "NoneType"
            ]
          },
          "metadata": {},
          "execution_count": 13
        }
      ],
      "source": [
        "type(None)"
      ]
    },
    {
      "cell_type": "markdown",
      "id": "f340121b",
      "metadata": {
        "id": "f340121b"
      },
      "source": [
        "## Printing Values\n",
        "Once we have put data into the computer as values, we need to do something with those values. A very simple action is to print the values. Soon, we will learn more complex actions. Review these examples of how we can write literal values and then print them using your editor on the right side of the screen."
      ]
    },
    {
      "cell_type": "code",
      "execution_count": 14,
      "id": "d0bd8836",
      "metadata": {
        "id": "d0bd8836",
        "outputId": "7f55fcf6-dd2d-4335-acb3-140a14f1c4ab",
        "colab": {
          "base_uri": "https://localhost:8080/"
        }
      },
      "outputs": [
        {
          "output_type": "stream",
          "name": "stdout",
          "text": [
            "74\n",
            "23.4\n",
            "Hello world\n"
          ]
        }
      ],
      "source": [
        "print(74)\n",
        "print(23.4)\n",
        "print(\"Hello world\")"
      ]
    },
    {
      "cell_type": "markdown",
      "id": "48f2e6ab",
      "metadata": {
        "id": "48f2e6ab"
      },
      "source": [
        "When you type a large integer, you might be tempted to use commas between groups of three digits, as in `1,000,000`. This is not a legal integer in Python."
      ]
    },
    {
      "cell_type": "code",
      "execution_count": 15,
      "id": "408983c9",
      "metadata": {
        "id": "408983c9",
        "colab": {
          "base_uri": "https://localhost:8080/"
        },
        "outputId": "9c7f7a22-8755-40d5-8d5b-aaef91e5388c"
      },
      "outputs": [
        {
          "output_type": "stream",
          "name": "stdout",
          "text": [
            "1 0 0\n"
          ]
        }
      ],
      "source": [
        "print(1,000,000)  # This will not print what you expect\n"
      ]
    },
    {
      "cell_type": "markdown",
      "id": "a64da160",
      "metadata": {
        "id": "a64da160"
      },
      "source": [
        "## Variables\n",
        "A variable is a name that refers to a value. An assignment statement creates new variables and gives them values."
      ]
    },
    {
      "cell_type": "code",
      "execution_count": 16,
      "id": "f974f103",
      "metadata": {
        "id": "f974f103",
        "colab": {
          "base_uri": "https://localhost:8080/"
        },
        "outputId": "7f693127-9b81-4603-988e-b33c5cebe686"
      },
      "outputs": [
        {
          "output_type": "stream",
          "name": "stdout",
          "text": [
            "And now for something completely different\n"
          ]
        },
        {
          "output_type": "execute_result",
          "data": {
            "text/plain": [
              "str"
            ]
          },
          "metadata": {},
          "execution_count": 16
        }
      ],
      "source": [
        "message = 'And now for something completely different'\n",
        "print(message)\n",
        "type(message)"
      ]
    },
    {
      "cell_type": "code",
      "execution_count": 17,
      "id": "0ee654e0",
      "metadata": {
        "id": "0ee654e0",
        "colab": {
          "base_uri": "https://localhost:8080/"
        },
        "outputId": "987097be-5791-4bf5-d1e0-92a254fb8b96"
      },
      "outputs": [
        {
          "output_type": "stream",
          "name": "stdout",
          "text": [
            "17\n"
          ]
        },
        {
          "output_type": "execute_result",
          "data": {
            "text/plain": [
              "int"
            ]
          },
          "metadata": {},
          "execution_count": 17
        }
      ],
      "source": [
        "n = 17\n",
        "print(n)\n",
        "type(n)"
      ]
    },
    {
      "cell_type": "code",
      "execution_count": 18,
      "id": "56e0819d",
      "metadata": {
        "id": "56e0819d",
        "colab": {
          "base_uri": "https://localhost:8080/"
        },
        "outputId": "eed8987a-e7ce-496c-c1a8-c6f3883f60ac"
      },
      "outputs": [
        {
          "output_type": "stream",
          "name": "stdout",
          "text": [
            "3.141592653589793\n"
          ]
        },
        {
          "output_type": "execute_result",
          "data": {
            "text/plain": [
              "float"
            ]
          },
          "metadata": {},
          "execution_count": 18
        }
      ],
      "source": [
        "pi = 3.1415926535897931\n",
        "print(pi)\n",
        "type(pi)\n"
      ]
    },
    {
      "cell_type": "markdown",
      "id": "42e14d3f",
      "metadata": {
        "id": "42e14d3f"
      },
      "source": [
        "## Variable Names and Keywords\n",
        "Variable names can be arbitrarily long. They can contain both letters and numbers, but they cannot start with a number. It is legal to use uppercase letters, but it is a good idea to begin variable names with a lowercase letter. Keywords cannot be used as variable names."
      ]
    },
    {
      "cell_type": "code",
      "execution_count": 19,
      "id": "42348ed2",
      "metadata": {
        "id": "42348ed2",
        "colab": {
          "base_uri": "https://localhost:8080/",
          "height": 106
        },
        "outputId": "8d76020a-ed43-48ff-c69b-e61c0f630a4d"
      },
      "outputs": [
        {
          "output_type": "error",
          "ename": "SyntaxError",
          "evalue": "invalid decimal literal (<ipython-input-19-5a1ea2bbf78b>, line 3)",
          "traceback": [
            "\u001b[0;36m  File \u001b[0;32m\"<ipython-input-19-5a1ea2bbf78b>\"\u001b[0;36m, line \u001b[0;32m3\u001b[0m\n\u001b[0;31m    76trombones = 'big parade'  # Illegal: starts with a number\u001b[0m\n\u001b[0m     ^\u001b[0m\n\u001b[0;31mSyntaxError\u001b[0m\u001b[0;31m:\u001b[0m invalid decimal literal\n"
          ]
        }
      ],
      "source": [
        "# Examples of legal and illegal variable names\n",
        "legal_variable = 42\n",
        "76trombones = 'big parade'  # Illegal: starts with a number\n",
        "more@ = 1000000  # Illegal: contains an illegal character\n",
        "class = 'Advanced Theoretical Zymurgy'  # Illegal: class is a keyword\n"
      ]
    },
    {
      "cell_type": "markdown",
      "id": "84cbaf95",
      "metadata": {
        "id": "84cbaf95"
      },
      "source": [
        "## Statements\n",
        "A statement is a unit of code that the Python interpreter can execute. We have seen two kinds of statements: print and assignment."
      ]
    },
    {
      "cell_type": "code",
      "execution_count": 20,
      "id": "e3c5daad",
      "metadata": {
        "id": "e3c5daad",
        "colab": {
          "base_uri": "https://localhost:8080/"
        },
        "outputId": "b69b0f01-cab1-4cd9-b1f4-545d1386e9f7"
      },
      "outputs": [
        {
          "output_type": "stream",
          "name": "stdout",
          "text": [
            "1\n",
            "2\n"
          ]
        }
      ],
      "source": [
        "print(1)\n",
        "x = 2\n",
        "print(x)\n"
      ]
    },
    {
      "cell_type": "markdown",
      "source": [
        "The variable x is assigned the value 10.\n",
        "The variable y is assigned the value 5.\n",
        "Assignment statements store the value on the right-hand side (10 and 5 in this case) into the variables on the left-hand side (x and y).\n",
        "\n",
        "The assignment statement produces no output."
      ],
      "metadata": {
        "id": "U3o7-fPj0xOf"
      },
      "id": "U3o7-fPj0xOf"
    },
    {
      "cell_type": "code",
      "source": [
        "x = 10\n",
        "y = 5\n"
      ],
      "metadata": {
        "id": "xJgtEzsa0sen"
      },
      "id": "xJgtEzsa0sen",
      "execution_count": 53,
      "outputs": []
    },
    {
      "cell_type": "markdown",
      "id": "813268c2",
      "metadata": {
        "id": "813268c2"
      },
      "source": [
        "## Operators and Operands\n",
        "Operators are special symbols that represent computations like addition and multiplication. The values the operator is applied to are called operands.\n",
        "The operators +, -, *, /, and ** perform addition, subtraction, multiplication, division, and exponentiation, as in the following examples:"
      ]
    },
    {
      "cell_type": "code",
      "execution_count": 24,
      "id": "893586ce",
      "metadata": {
        "id": "893586ce",
        "outputId": "ddd88ef2-7d91-4a30-cd80-49696b446203",
        "colab": {
          "base_uri": "https://localhost:8080/"
        }
      },
      "outputs": [
        {
          "output_type": "execute_result",
          "data": {
            "text/plain": [
              "112"
            ]
          },
          "metadata": {},
          "execution_count": 24
        }
      ],
      "source": [
        "20 + 32\n",
        "hour = 9\n",
        "minute = 45\n",
        "hour - 1\n",
        "hour * 60 + minute\n",
        "minute / 60\n",
        "5 ** 2\n",
        "(5 + 9) * (15 - 7)\n"
      ]
    },
    {
      "cell_type": "markdown",
      "source": [
        "In Python, only the last evaluated expression is shown by default in an interactive environment like Google Colab. If you want to display all the results, you need to explicitly print each one. You can do this by using the print() function for each expression."
      ],
      "metadata": {
        "id": "tMgHoVAUvV0m"
      },
      "id": "tMgHoVAUvV0m"
    },
    {
      "cell_type": "code",
      "source": [
        "print(20 + 32)\n",
        "hour = 9\n",
        "minute = 45\n",
        "print(hour - 1)\n",
        "print(hour * 60 + minute)\n",
        "print(minute / 60)\n",
        "print(5 ** 2)\n",
        "print((5 + 9) * (15 - 7))\n"
      ],
      "metadata": {
        "colab": {
          "base_uri": "https://localhost:8080/"
        },
        "id": "kUGMPA2nvbEE",
        "outputId": "3331f8d5-42b7-4a4d-c6b7-eb44fd8fd3d9"
      },
      "id": "kUGMPA2nvbEE",
      "execution_count": 25,
      "outputs": [
        {
          "output_type": "stream",
          "name": "stdout",
          "text": [
            "52\n",
            "8\n",
            "585\n",
            "0.75\n",
            "25\n",
            "112\n"
          ]
        }
      ]
    },
    {
      "cell_type": "markdown",
      "id": "e2c1e77b",
      "metadata": {
        "id": "e2c1e77b"
      },
      "source": [
        "## Expressions\n",
        "An expression is a combination of values, variables, and operators. A value all by itself is considered an expression, and so is a variable."
      ]
    },
    {
      "cell_type": "code",
      "execution_count": 27,
      "id": "0fc005c9",
      "metadata": {
        "id": "0fc005c9",
        "colab": {
          "base_uri": "https://localhost:8080/"
        },
        "outputId": "57c6ab6e-1522-452c-efc7-4f41ca53f97b"
      },
      "outputs": [
        {
          "output_type": "stream",
          "name": "stdout",
          "text": [
            "22\n",
            "2\n"
          ]
        }
      ],
      "source": [
        "17\n",
        "x = 5\n",
        "print(x + 17)\n",
        "print(1 + 1)\n"
      ]
    },
    {
      "cell_type": "markdown",
      "id": "11b761f6",
      "metadata": {
        "id": "11b761f6"
      },
      "source": [
        "## Order of Operations\n",
        "When more than one operator appears in an expression, the order of evaluation depends on the rules of precedence. The acronym PEMDAS is a useful way to remember the rules:\n",
        "- **P**arentheses\n",
        "- **E**xponentiation\n",
        "- **M**ultiplication and **D**ivision\n",
        "- **A**ddition and **S**ubtraction\n",
        "\n",
        "Operators with the same precedence are evaluated from left to right."
      ]
    },
    {
      "cell_type": "code",
      "execution_count": 28,
      "id": "fd112ffd",
      "metadata": {
        "id": "fd112ffd",
        "outputId": "ae54ed2e-f757-4ffa-fec4-15f766b35110",
        "colab": {
          "base_uri": "https://localhost:8080/"
        }
      },
      "outputs": [
        {
          "output_type": "execute_result",
          "data": {
            "text/plain": [
              "4"
            ]
          },
          "metadata": {},
          "execution_count": 28
        }
      ],
      "source": [
        "2 * (3 - 1)\n"
      ]
    },
    {
      "cell_type": "code",
      "execution_count": 29,
      "id": "e7035cc0",
      "metadata": {
        "id": "e7035cc0",
        "outputId": "6542834b-b325-49cc-ab36-845996dae590",
        "colab": {
          "base_uri": "https://localhost:8080/"
        }
      },
      "outputs": [
        {
          "output_type": "execute_result",
          "data": {
            "text/plain": [
              "8"
            ]
          },
          "metadata": {},
          "execution_count": 29
        }
      ],
      "source": [
        "(1 + 1) ** (5 - 2)\n"
      ]
    },
    {
      "cell_type": "code",
      "execution_count": 30,
      "id": "c5ed199c",
      "metadata": {
        "id": "c5ed199c",
        "outputId": "bb6c6681-a7d1-45a8-f431-ad66f2d0a19c",
        "colab": {
          "base_uri": "https://localhost:8080/"
        }
      },
      "outputs": [
        {
          "output_type": "execute_result",
          "data": {
            "text/plain": [
              "3"
            ]
          },
          "metadata": {},
          "execution_count": 30
        }
      ],
      "source": [
        "2 ** 1 + 1\n"
      ]
    },
    {
      "cell_type": "code",
      "execution_count": 31,
      "id": "d6d92702",
      "metadata": {
        "id": "d6d92702",
        "outputId": "585b5011-3415-4994-be18-9e5b8a4594d7",
        "colab": {
          "base_uri": "https://localhost:8080/"
        }
      },
      "outputs": [
        {
          "output_type": "execute_result",
          "data": {
            "text/plain": [
              "3"
            ]
          },
          "metadata": {},
          "execution_count": 31
        }
      ],
      "source": [
        "3 * 1 ** 3\n"
      ]
    },
    {
      "cell_type": "code",
      "execution_count": 32,
      "id": "49f563c0",
      "metadata": {
        "id": "49f563c0",
        "outputId": "de96cbb2-c4c3-49e1-dfb2-e9a8ea6d2b98",
        "colab": {
          "base_uri": "https://localhost:8080/"
        }
      },
      "outputs": [
        {
          "output_type": "execute_result",
          "data": {
            "text/plain": [
              "5"
            ]
          },
          "metadata": {},
          "execution_count": 32
        }
      ],
      "source": [
        "2 * 3 - 1\n"
      ]
    },
    {
      "cell_type": "code",
      "execution_count": 33,
      "id": "deb8ef1f",
      "metadata": {
        "id": "deb8ef1f",
        "outputId": "5db48c61-7469-4f4b-9a6e-da6b5b9d7e88",
        "colab": {
          "base_uri": "https://localhost:8080/"
        }
      },
      "outputs": [
        {
          "output_type": "execute_result",
          "data": {
            "text/plain": [
              "8.0"
            ]
          },
          "metadata": {},
          "execution_count": 33
        }
      ],
      "source": [
        "6 + 4 / 2\n"
      ]
    },
    {
      "cell_type": "code",
      "execution_count": 34,
      "id": "9d273ab8",
      "metadata": {
        "id": "9d273ab8",
        "outputId": "43c31f61-5553-43e1-bea4-516754fa5013",
        "colab": {
          "base_uri": "https://localhost:8080/"
        }
      },
      "outputs": [
        {
          "output_type": "execute_result",
          "data": {
            "text/plain": [
              "1"
            ]
          },
          "metadata": {},
          "execution_count": 34
        }
      ],
      "source": [
        "5 - 3 - 1\n"
      ]
    },
    {
      "cell_type": "markdown",
      "id": "1fa18964",
      "metadata": {
        "id": "1fa18964"
      },
      "source": [
        "## Modulus Operator\n",
        "The modulus operator works on integers and yields the remainder when the first operand is divided by the second. In Python, the modulus operator is a percent sign (%)."
      ]
    },
    {
      "cell_type": "code",
      "execution_count": 35,
      "id": "5a0b6051",
      "metadata": {
        "id": "5a0b6051",
        "colab": {
          "base_uri": "https://localhost:8080/"
        },
        "outputId": "13ab6330-d84f-40ab-bd4a-b2df43390ebc"
      },
      "outputs": [
        {
          "output_type": "stream",
          "name": "stdout",
          "text": [
            "2\n",
            "1\n"
          ]
        }
      ],
      "source": [
        "quotient = 7 // 3\n",
        "remainder = 7 % 3\n",
        "print(quotient)\n",
        "print(remainder)\n"
      ]
    },
    {
      "cell_type": "markdown",
      "id": "624e7255",
      "metadata": {
        "id": "624e7255"
      },
      "source": [
        "## String Operations\n",
        "The `+` operator works with strings, but it is not addition in the mathematical sense. Instead, it performs concatenation, which means joining the strings by linking them end to end. The `*` operator also works with strings by multiplying the content of a string by an integer."
      ]
    },
    {
      "cell_type": "code",
      "execution_count": 36,
      "id": "a5442109",
      "metadata": {
        "id": "a5442109",
        "colab": {
          "base_uri": "https://localhost:8080/"
        },
        "outputId": "602f2bd4-b7f0-43d0-ee9d-fd7f51f5b254"
      },
      "outputs": [
        {
          "output_type": "stream",
          "name": "stdout",
          "text": [
            "25\n"
          ]
        }
      ],
      "source": [
        "first = 10\n",
        "second = 15\n",
        "print(first + second)\n"
      ]
    },
    {
      "cell_type": "code",
      "execution_count": 37,
      "id": "b0a1d9ff",
      "metadata": {
        "id": "b0a1d9ff",
        "colab": {
          "base_uri": "https://localhost:8080/"
        },
        "outputId": "3f95abc1-f5e8-449f-bded-e1b89c202fa5"
      },
      "outputs": [
        {
          "output_type": "stream",
          "name": "stdout",
          "text": [
            "100150\n"
          ]
        }
      ],
      "source": [
        "first = '100'\n",
        "second = '150'\n",
        "print(first + second)\n"
      ]
    },
    {
      "cell_type": "code",
      "execution_count": 38,
      "id": "449a42bf",
      "metadata": {
        "id": "449a42bf",
        "colab": {
          "base_uri": "https://localhost:8080/"
        },
        "outputId": "949bcea9-3235-46f5-ad8a-bb8f1d35a3cf"
      },
      "outputs": [
        {
          "output_type": "stream",
          "name": "stdout",
          "text": [
            "Test Test Test \n"
          ]
        }
      ],
      "source": [
        "first = 'Test '\n",
        "second = 3\n",
        "print(first * second)\n"
      ]
    },
    {
      "cell_type": "code",
      "execution_count": 39,
      "id": "2b96af13",
      "metadata": {
        "id": "2b96af13",
        "colab": {
          "base_uri": "https://localhost:8080/",
          "height": 159
        },
        "outputId": "39f4f729-900e-4bc2-ae79-06465fdec80b"
      },
      "outputs": [
        {
          "output_type": "error",
          "ename": "TypeError",
          "evalue": "unsupported operand type(s) for -: 'str' and 'str'",
          "traceback": [
            "\u001b[0;31m---------------------------------------------------------------------------\u001b[0m",
            "\u001b[0;31mTypeError\u001b[0m                                 Traceback (most recent call last)",
            "\u001b[0;32m<ipython-input-39-8d43738dc272>\u001b[0m in \u001b[0;36m<cell line: 2>\u001b[0;34m()\u001b[0m\n\u001b[1;32m      1\u001b[0m \u001b[0;31m# This will break!\u001b[0m\u001b[0;34m\u001b[0m\u001b[0;34m\u001b[0m\u001b[0m\n\u001b[0;32m----> 2\u001b[0;31m \u001b[0mprint\u001b[0m\u001b[0;34m(\u001b[0m\u001b[0;34m\"Can't subtract\"\u001b[0m \u001b[0;34m-\u001b[0m \u001b[0;34m\"strings\"\u001b[0m\u001b[0;34m)\u001b[0m\u001b[0;34m\u001b[0m\u001b[0;34m\u001b[0m\u001b[0m\n\u001b[0m",
            "\u001b[0;31mTypeError\u001b[0m: unsupported operand type(s) for -: 'str' and 'str'"
          ]
        }
      ],
      "source": [
        "# This will break!\n",
        "print(\"Can't subtract\" - \"strings\")"
      ]
    },
    {
      "cell_type": "markdown",
      "id": "81e5fd2b",
      "metadata": {
        "id": "81e5fd2b"
      },
      "source": [
        "Types control what you can and can’t do with things. We know that a number is a number because we can add it to another number, or subtract it, or multiply it. We can add two strings together, but we cannot subtract them — this is one reason why a string and a number are different. So, another way of thinking about types is that they are a set of rules for what you can and can’t do with values."
      ]
    },
    {
      "cell_type": "markdown",
      "id": "9fcbb9e5",
      "metadata": {
        "id": "9fcbb9e5"
      },
      "source": [
        "## Asking the User for Input\n",
        "Python provides a built-in function called `input` that gets input from the keyboard. When this function is called, the program stops and waits for the user to type something."
      ]
    },
    {
      "cell_type": "code",
      "execution_count": 40,
      "id": "09bfcaa7",
      "metadata": {
        "id": "09bfcaa7",
        "colab": {
          "base_uri": "https://localhost:8080/"
        },
        "outputId": "bc1ccbbf-0e28-4ff1-d154-7729a7e95598"
      },
      "outputs": [
        {
          "output_type": "stream",
          "name": "stdout",
          "text": [
            "Python\n",
            "Python\n"
          ]
        }
      ],
      "source": [
        "inp = input()\n",
        "print(inp)\n"
      ]
    },
    {
      "cell_type": "code",
      "execution_count": 41,
      "id": "9bd5f80c",
      "metadata": {
        "id": "9bd5f80c",
        "colab": {
          "base_uri": "https://localhost:8080/"
        },
        "outputId": "77a98040-dcaf-49ca-d2ce-df157c5df43e"
      },
      "outputs": [
        {
          "output_type": "stream",
          "name": "stdout",
          "text": [
            "What is your name?\n",
            "Lin\n",
            "Lin\n"
          ]
        }
      ],
      "source": [
        "name = input('What is your name?\\n')\n",
        "print(name)\n"
      ]
    },
    {
      "cell_type": "code",
      "execution_count": 44,
      "id": "eba82bfe",
      "metadata": {
        "id": "eba82bfe",
        "colab": {
          "base_uri": "https://localhost:8080/",
          "height": 211
        },
        "outputId": "8083db4e-3d73-499b-b6e7-0d25b94eb022"
      },
      "outputs": [
        {
          "name": "stdout",
          "output_type": "stream",
          "text": [
            "What...is the airspeed velocity of an unladen swallow?\n",
            "speed\n"
          ]
        },
        {
          "output_type": "error",
          "ename": "ValueError",
          "evalue": "invalid literal for int() with base 10: 'speed'",
          "traceback": [
            "\u001b[0;31m---------------------------------------------------------------------------\u001b[0m",
            "\u001b[0;31mValueError\u001b[0m                                Traceback (most recent call last)",
            "\u001b[0;32m<ipython-input-44-a27f77f8088f>\u001b[0m in \u001b[0;36m<cell line: 3>\u001b[0;34m()\u001b[0m\n\u001b[1;32m      1\u001b[0m \u001b[0mprompt\u001b[0m \u001b[0;34m=\u001b[0m \u001b[0;34m'What...is the airspeed velocity of an unladen swallow?\\n'\u001b[0m\u001b[0;34m\u001b[0m\u001b[0;34m\u001b[0m\u001b[0m\n\u001b[1;32m      2\u001b[0m \u001b[0mspeed\u001b[0m \u001b[0;34m=\u001b[0m \u001b[0minput\u001b[0m\u001b[0;34m(\u001b[0m\u001b[0mprompt\u001b[0m\u001b[0;34m)\u001b[0m\u001b[0;34m\u001b[0m\u001b[0;34m\u001b[0m\u001b[0m\n\u001b[0;32m----> 3\u001b[0;31m \u001b[0mprint\u001b[0m\u001b[0;34m(\u001b[0m\u001b[0mint\u001b[0m\u001b[0;34m(\u001b[0m\u001b[0mspeed\u001b[0m\u001b[0;34m)\u001b[0m \u001b[0;34m+\u001b[0m \u001b[0;36m5\u001b[0m\u001b[0;34m)\u001b[0m \u001b[0;31m# try with integer and string\u001b[0m\u001b[0;34m\u001b[0m\u001b[0;34m\u001b[0m\u001b[0m\n\u001b[0m",
            "\u001b[0;31mValueError\u001b[0m: invalid literal for int() with base 10: 'speed'"
          ]
        }
      ],
      "source": [
        "prompt = 'What...is the airspeed velocity of an unladen swallow?\\n'\n",
        "speed = input(prompt)\n",
        "print(int(speed) + 5) # try with integer and string\n"
      ]
    },
    {
      "cell_type": "markdown",
      "id": "26595987",
      "metadata": {
        "id": "26595987"
      },
      "source": [
        "## Comments\n",
        "As programs get bigger and more complicated, they get more difficult to read. It is a good idea to add notes to your programs to explain in natural language what the program is doing."
      ]
    },
    {
      "cell_type": "code",
      "execution_count": 45,
      "id": "4657b393",
      "metadata": {
        "id": "4657b393",
        "colab": {
          "base_uri": "https://localhost:8080/"
        },
        "outputId": "70591739-f8f2-4a11-86d8-d31bd32eab26"
      },
      "outputs": [
        {
          "output_type": "stream",
          "name": "stdout",
          "text": [
            "75.0\n"
          ]
        }
      ],
      "source": [
        "# This is a comment\n",
        "percentage = (minute * 100) / 60  # percentage of an hour\n",
        "print(percentage)\n"
      ]
    },
    {
      "cell_type": "markdown",
      "id": "45c732dc",
      "metadata": {
        "id": "45c732dc"
      },
      "source": [
        "## Choosing Mnemonic Variable Names\n",
        "Choose variable names that help you remember what is stored in the variable."
      ]
    },
    {
      "cell_type": "code",
      "execution_count": 46,
      "id": "484e8195",
      "metadata": {
        "id": "484e8195",
        "colab": {
          "base_uri": "https://localhost:8080/"
        },
        "outputId": "545346d0-35ae-4df7-afe0-ea6b18538209"
      },
      "outputs": [
        {
          "output_type": "stream",
          "name": "stdout",
          "text": [
            "437.5\n"
          ]
        }
      ],
      "source": [
        "hours = 35.0\n",
        "rate = 12.50\n",
        "pay = hours * rate\n",
        "print(pay)\n"
      ]
    },
    {
      "cell_type": "code",
      "source": [
        "x1q3z9ahd = 35.0\n",
        "x1q3z9afd = 12.50\n",
        "x1q3p9afd = x1q3z9ahd * x1q3z9afd\n",
        "print(x1q3p9afd)"
      ],
      "metadata": {
        "colab": {
          "base_uri": "https://localhost:8080/"
        },
        "id": "sSVcASEJyofO",
        "outputId": "608db129-69e3-4159-8a21-2a7d98804364"
      },
      "id": "sSVcASEJyofO",
      "execution_count": 47,
      "outputs": [
        {
          "output_type": "stream",
          "name": "stdout",
          "text": [
            "437.5\n"
          ]
        }
      ]
    },
    {
      "cell_type": "markdown",
      "source": [
        "The Python interpreter sees all these programs as exactly the same but humans see and understand these programs quite differently. Humans will most quickly understand the intent of the first program because the programmer has chosen variable names that reflect their intent regarding what data will be stored in each variable."
      ],
      "metadata": {
        "id": "ZfMxtonQyqR3"
      },
      "id": "ZfMxtonQyqR3"
    },
    {
      "cell_type": "markdown",
      "id": "56391927",
      "metadata": {
        "id": "56391927"
      },
      "source": [
        "## Debugging\n",
        "At this point, the syntax error you are most likely to make is an illegal variable name, like `class` and `yield`, which are keywords, or `odd~job` and `US$`, which contain illegal characters.or trying to use a variable before you have assigned a value."
      ]
    },
    {
      "cell_type": "code",
      "execution_count": 48,
      "id": "a68326af",
      "metadata": {
        "id": "a68326af",
        "colab": {
          "base_uri": "https://localhost:8080/",
          "height": 176
        },
        "outputId": "a24d903f-7797-4e87-8c4c-41c4a3aa9654"
      },
      "outputs": [
        {
          "output_type": "error",
          "ename": "NameError",
          "evalue": "name 'principle' is not defined",
          "traceback": [
            "\u001b[0;31m---------------------------------------------------------------------------\u001b[0m",
            "\u001b[0;31mNameError\u001b[0m                                 Traceback (most recent call last)",
            "\u001b[0;32m<ipython-input-48-692c8b6fef60>\u001b[0m in \u001b[0;36m<cell line: 3>\u001b[0;34m()\u001b[0m\n\u001b[1;32m      1\u001b[0m \u001b[0;31m# Example of a NameError\u001b[0m\u001b[0;34m\u001b[0m\u001b[0;34m\u001b[0m\u001b[0m\n\u001b[1;32m      2\u001b[0m \u001b[0mprincipal\u001b[0m \u001b[0;34m=\u001b[0m \u001b[0;36m327.68\u001b[0m\u001b[0;34m\u001b[0m\u001b[0;34m\u001b[0m\u001b[0m\n\u001b[0;32m----> 3\u001b[0;31m \u001b[0minterest\u001b[0m \u001b[0;34m=\u001b[0m \u001b[0mprinciple\u001b[0m \u001b[0;34m*\u001b[0m \u001b[0mrate\u001b[0m  \u001b[0;31m# Note the typo\u001b[0m\u001b[0;34m\u001b[0m\u001b[0;34m\u001b[0m\u001b[0m\n\u001b[0m",
            "\u001b[0;31mNameError\u001b[0m: name 'principle' is not defined"
          ]
        }
      ],
      "source": [
        "# Example of a NameError\n",
        "principal = 327.68\n",
        "interest = principle * rate  # Note the typo\n"
      ]
    },
    {
      "cell_type": "code",
      "source": [
        "bad name = 5\n",
        "# If you put a space in a variable name, Python thinks it is two operands without an operator:"
      ],
      "metadata": {
        "colab": {
          "base_uri": "https://localhost:8080/",
          "height": 106
        },
        "id": "MhWkXQHdzZ1H",
        "outputId": "90e43bc2-cec9-47ca-dbf1-68fd9e8486bd"
      },
      "id": "MhWkXQHdzZ1H",
      "execution_count": 52,
      "outputs": [
        {
          "output_type": "error",
          "ename": "SyntaxError",
          "evalue": "invalid syntax (<ipython-input-52-e55a2aa066b2>, line 1)",
          "traceback": [
            "\u001b[0;36m  File \u001b[0;32m\"<ipython-input-52-e55a2aa066b2>\"\u001b[0;36m, line \u001b[0;32m1\u001b[0m\n\u001b[0;31m    bad name = 5\u001b[0m\n\u001b[0m        ^\u001b[0m\n\u001b[0;31mSyntaxError\u001b[0m\u001b[0;31m:\u001b[0m invalid syntax\n"
          ]
        }
      ]
    },
    {
      "cell_type": "markdown",
      "source": [
        "Variables names are case sensitive, so `LaTeX` is not the same as `latex`."
      ],
      "metadata": {
        "id": "iwSZaB3-0B6P"
      },
      "id": "iwSZaB3-0B6P"
    }
  ],
  "metadata": {
    "kernelspec": {
      "display_name": "Python 3",
      "language": "python",
      "name": "python3"
    },
    "language_info": {
      "codemirror_mode": {
        "name": "ipython",
        "version": 3
      },
      "file_extension": ".py",
      "mimetype": "text/x-python",
      "name": "python",
      "nbconvert_exporter": "python",
      "pygments_lexer": "ipython3",
      "version": "3.12.4"
    },
    "colab": {
      "provenance": []
    }
  },
  "nbformat": 4,
  "nbformat_minor": 5
}