{
  "nbformat": 4,
  "nbformat_minor": 0,
  "metadata": {
    "colab": {
      "provenance": []
    },
    "kernelspec": {
      "name": "python3",
      "display_name": "Python 3"
    },
    "language_info": {
      "name": "python"
    }
  },
  "cells": [
    {
      "cell_type": "markdown",
      "source": [
        "# Data Structures: Dictionaries and Tuples\n",
        "*PY4E Textbook*"
      ],
      "metadata": {
        "id": "eGecMSW3Cd0V"
      }
    },
    {
      "cell_type": "markdown",
      "source": [
        "## Dictionaries\n",
        "\n",
        "\n",
        "A dictionary is like a list, but more general. In a list, the index positions have to be integers; in a dictionary, the indices can be (almost) any type.\n",
        "\n",
        "You can think of a dictionary as a mapping between a set of indices (which are called *keys*) and a set of values. Each key maps to a value. The association of a key and a value is called a *key-value pair* or sometimes an item.\n",
        "\n",
        "As an example, we’ll build a dictionary that maps from English to Spanish words, so the keys and the values are all strings.\n",
        "\n"
      ],
      "metadata": {
        "id": "2f-NbNGOCj6s"
      }
    },
    {
      "cell_type": "code",
      "source": [
        "eng2sp = {'one': 'uno', 'two': 'dos', 'three': 'tres'}\n",
        "print(eng2sp)"
      ],
      "metadata": {
        "colab": {
          "base_uri": "https://localhost:8080/"
        },
        "id": "tDU7TtEwDfBz",
        "outputId": "b83848f0-e44b-423f-e947-4b5254979d23"
      },
      "execution_count": null,
      "outputs": [
        {
          "output_type": "stream",
          "name": "stdout",
          "text": [
            "{'one': 'uno', 'two': 'dos', 'three': 'tres'}\n"
          ]
        }
      ]
    },
    {
      "cell_type": "markdown",
      "source": [
        "The elements of a dictionary are never indexed with integer indices. Instead, you use the keys to look up the corresponding values:"
      ],
      "metadata": {
        "id": "KclQwp1jDsb8"
      }
    },
    {
      "cell_type": "code",
      "source": [
        "print(eng2sp['two'])"
      ],
      "metadata": {
        "colab": {
          "base_uri": "https://localhost:8080/"
        },
        "id": "3HAxruSrD1iL",
        "outputId": "8b55c499-a0b6-469b-a703-27804157c4ca"
      },
      "execution_count": null,
      "outputs": [
        {
          "output_type": "stream",
          "name": "stdout",
          "text": [
            "dos\n"
          ]
        }
      ]
    },
    {
      "cell_type": "markdown",
      "source": [
        "The key `'two'` always maps to the value “dos” so the order of the items doesn’t matter.\n",
        "\n",
        "If the key isn’t in the dictionary, you get an exception:"
      ],
      "metadata": {
        "id": "3sudVkPAD3qc"
      }
    },
    {
      "cell_type": "code",
      "source": [
        "print(eng2sp['four'])"
      ],
      "metadata": {
        "colab": {
          "base_uri": "https://localhost:8080/",
          "height": 141
        },
        "id": "XK18fF6ID7Jb",
        "outputId": "53b250fd-eaea-4c57-fada-a7766daa78ff"
      },
      "execution_count": null,
      "outputs": [
        {
          "output_type": "error",
          "ename": "KeyError",
          "evalue": "'four'",
          "traceback": [
            "\u001b[0;31m---------------------------------------------------------------------------\u001b[0m",
            "\u001b[0;31mKeyError\u001b[0m                                  Traceback (most recent call last)",
            "\u001b[0;32m<ipython-input-3-0c5b4554d872>\u001b[0m in \u001b[0;36m<cell line: 1>\u001b[0;34m()\u001b[0m\n\u001b[0;32m----> 1\u001b[0;31m \u001b[0mprint\u001b[0m\u001b[0;34m(\u001b[0m\u001b[0meng2sp\u001b[0m\u001b[0;34m[\u001b[0m\u001b[0;34m'four'\u001b[0m\u001b[0;34m]\u001b[0m\u001b[0;34m)\u001b[0m\u001b[0;34m\u001b[0m\u001b[0;34m\u001b[0m\u001b[0m\n\u001b[0m",
            "\u001b[0;31mKeyError\u001b[0m: 'four'"
          ]
        }
      ]
    },
    {
      "cell_type": "markdown",
      "source": [
        "The `len` function works on dictionaries; it returns the number of key-value pairs:"
      ],
      "metadata": {
        "id": "2u0xcmRED-gz"
      }
    },
    {
      "cell_type": "code",
      "source": [
        "len(eng2sp)"
      ],
      "metadata": {
        "colab": {
          "base_uri": "https://localhost:8080/"
        },
        "id": "sNkgSaEDEAAL",
        "outputId": "024c50c5-b563-414d-b2f1-9c26df3db9ea"
      },
      "execution_count": null,
      "outputs": [
        {
          "output_type": "execute_result",
          "data": {
            "text/plain": [
              "3"
            ]
          },
          "metadata": {},
          "execution_count": 4
        }
      ]
    },
    {
      "cell_type": "markdown",
      "source": [
        "The `in` operator works on dictionaries; it tells you whether something appears as a `key` in the dictionary (appearing as a value is not good enough)."
      ],
      "metadata": {
        "id": "rmPQwMEREDgk"
      }
    },
    {
      "cell_type": "code",
      "source": [
        "print('one' in eng2sp)\n",
        "\n",
        "print('uno' in eng2sp)"
      ],
      "metadata": {
        "colab": {
          "base_uri": "https://localhost:8080/"
        },
        "id": "1S3_gNStEFuL",
        "outputId": "e94e493f-cbed-43ff-8b40-2c3948a93707"
      },
      "execution_count": null,
      "outputs": [
        {
          "output_type": "stream",
          "name": "stdout",
          "text": [
            "True\n",
            "False\n"
          ]
        }
      ]
    },
    {
      "cell_type": "markdown",
      "source": [
        "To see whether something appears as a value in a dictionary, you can use the method `values`, which returns the values as a type that can be converted to a list, and then use the `in` operator:"
      ],
      "metadata": {
        "id": "uNREaEFnEPh7"
      }
    },
    {
      "cell_type": "code",
      "source": [
        "vals = list(eng2sp.values())\n",
        "vals\n"
      ],
      "metadata": {
        "colab": {
          "base_uri": "https://localhost:8080/"
        },
        "id": "xzAhkp1DESos",
        "outputId": "e8aa307f-3d30-4b42-d335-b76241d5bc86"
      },
      "execution_count": null,
      "outputs": [
        {
          "output_type": "execute_result",
          "data": {
            "text/plain": [
              "['uno', 'dos', 'tres']"
            ]
          },
          "metadata": {},
          "execution_count": 10
        }
      ]
    },
    {
      "cell_type": "code",
      "source": [
        "print('uno' in vals)"
      ],
      "metadata": {
        "colab": {
          "base_uri": "https://localhost:8080/"
        },
        "id": "k6xAjgprEbLD",
        "outputId": "98cb454e-a143-4644-b505-a4e85a85b8d1"
      },
      "execution_count": null,
      "outputs": [
        {
          "output_type": "stream",
          "name": "stdout",
          "text": [
            "True\n"
          ]
        }
      ]
    },
    {
      "cell_type": "markdown",
      "source": [
        "## Dictionary as a set of counters\n",
        "Suppose you are given a string and you want to count how many times each letter appears."
      ],
      "metadata": {
        "id": "6Hstk85qEeeD"
      }
    },
    {
      "cell_type": "code",
      "source": [
        "word = 'brontosaurus'\n",
        "d = dict()\n",
        "d"
      ],
      "metadata": {
        "colab": {
          "base_uri": "https://localhost:8080/"
        },
        "id": "tuN5WcllHhly",
        "outputId": "4627dffc-5880-43dd-b7d1-656bc43969b8"
      },
      "execution_count": null,
      "outputs": [
        {
          "output_type": "execute_result",
          "data": {
            "text/plain": [
              "{}"
            ]
          },
          "metadata": {},
          "execution_count": 13
        }
      ]
    },
    {
      "cell_type": "code",
      "source": [
        "word = 'brontosaurus'\n",
        "d = dict() # Initialize an empty dictionary to store letter counts.\n",
        "for letter in word: # Loop over each letter in the word.\n",
        "    if letter not in d: # Check if the letter is not yet in the dictionary.\n",
        "        d[letter] = 1  # If not, add the letter as a key with an initial count of 1.\n",
        "    else:\n",
        "        d[letter] = d[letter] + 1  # increment its count by 1.\n",
        "print(d)"
      ],
      "metadata": {
        "colab": {
          "base_uri": "https://localhost:8080/"
        },
        "id": "HPn65dBBFyIK",
        "outputId": "89e4f4fd-6aa9-48b0-add3-e4114710aa68"
      },
      "execution_count": null,
      "outputs": [
        {
          "output_type": "stream",
          "name": "stdout",
          "text": [
            "{'b': 1, 'r': 2, 'o': 2, 'n': 1, 't': 1, 's': 2, 'a': 1, 'u': 2}\n"
          ]
        }
      ]
    },
    {
      "cell_type": "markdown",
      "source": [
        "We are effectively computing a histogram, which is a statistical term for a set of counters (or frequencies).\n",
        "\n",
        "\n",
        "Here’s how it works step-by-step:\n",
        "\n",
        "- The loop goes through each letter in word, which is \"brontosaurus\".\n",
        "- If the letter isn’t already a key in d, it’s added with a count of 1.\n",
        "- If the letter is already in d, its count is incremented by 1.\n",
        "- At the end, d holds the counts of only the letters that appear in \"brontosaurus\"."
      ],
      "metadata": {
        "id": "ngc2pk86F-lL"
      }
    },
    {
      "cell_type": "code",
      "source": [
        "# No need to understand the code for drawing the histogram, just show the histogram figure result\n",
        "import matplotlib.pyplot as plt\n",
        "\n",
        "# Given word and counting letters\n",
        "word = 'brontosaurus'\n",
        "d = dict()\n",
        "for letter in word:\n",
        "    if letter not in d:\n",
        "        d[letter] = 1\n",
        "    else:\n",
        "        d[letter] += 1\n",
        "\n",
        "# Drawing the histogram\n",
        "letters = list(d.keys())\n",
        "counts = list(d.values())\n",
        "\n",
        "plt.figure(figsize=(10, 6))\n",
        "plt.bar(letters, counts, color='skyblue')\n",
        "plt.title('Letter Frequency in \"brontosaurus\"')\n",
        "plt.xlabel('Letters')\n",
        "plt.ylabel('Frequency')\n",
        "plt.xticks(rotation=45)\n",
        "plt.grid(axis='y', linestyle='--', alpha=0.7)\n",
        "\n",
        "# Show the histogram\n",
        "plt.show()\n"
      ],
      "metadata": {
        "colab": {
          "base_uri": "https://localhost:8080/",
          "height": 566
        },
        "id": "C0KCm6JYJGDq",
        "outputId": "12f725f1-da08-4552-85c2-a4c2d919f437"
      },
      "execution_count": null,
      "outputs": [
        {
          "output_type": "display_data",
          "data": {
            "text/plain": [
              "<Figure size 1000x600 with 1 Axes>"
            ],
            "image/png": "[encoded data removed]"
          },
          "metadata": {}
        }
      ]
    },
    {
      "cell_type": "markdown",
      "source": [
        "Dictionaries have a method called `get` that takes a key and a default value. If the key appears in the dictionary, `get` returns the corresponding value; otherwise it returns the default value. For example:"
      ],
      "metadata": {
        "id": "waPUCaubGF4S"
      }
    },
    {
      "cell_type": "code",
      "source": [
        "counts = { 'chuck' : 1 , 'annie' : 42, 'jan': 100}\n",
        "print(counts.get('jan', 0))\n",
        "\n",
        "print(counts.get('tim', 0))"
      ],
      "metadata": {
        "colab": {
          "base_uri": "https://localhost:8080/"
        },
        "id": "Fv7_TqkRWbxO",
        "outputId": "9fd8614c-788e-4725-f02f-f48dd30380d0"
      },
      "execution_count": null,
      "outputs": [
        {
          "output_type": "stream",
          "name": "stdout",
          "text": [
            "100\n",
            "0\n"
          ]
        }
      ]
    },
    {
      "cell_type": "markdown",
      "source": [
        "We can use `get` to write our histogram loop more concisely. Because the `get` method automatically handles the case where a key is not in a dictionary, we can reduce four lines down to one and eliminate the `if` statement."
      ],
      "metadata": {
        "id": "jEi50W8kWjJm"
      }
    },
    {
      "cell_type": "code",
      "source": [
        "word = 'brontosaurus'\n",
        "d = dict()\n",
        "for c in word:\n",
        "    d[c] = d.get(c,0) + 1\n",
        "print(d)"
      ],
      "metadata": {
        "colab": {
          "base_uri": "https://localhost:8080/"
        },
        "id": "RgntSULsWoOm",
        "outputId": "823dbbb9-3dfd-403e-c5ad-f17814f64e0c"
      },
      "execution_count": null,
      "outputs": [
        {
          "output_type": "stream",
          "name": "stdout",
          "text": [
            "{'b': 1, 'r': 2, 'o': 2, 'n': 1, 't': 1, 's': 2, 'a': 1, 'u': 2}\n"
          ]
        }
      ]
    },
    {
      "cell_type": "markdown",
      "source": [
        "# Dictionaries and files\n",
        "One of the common uses of a dictionary is to count the occurrence of words in a file with some written text. Let’s start with a very simple file of words taken from the text of Romeo and Juliet.\n",
        "\n",
        "For the first set of examples, we will use a shortened and simplified version of the text with no punctuation. Later we will work with the text of the scene with punctuation included."
      ],
      "metadata": {
        "id": "zTE6fLHvYiwV"
      }
    },
    {
      "cell_type": "markdown",
      "source": [
        "But soft what light through yonder window breaks\n",
        "\n",
        "It is the east and Juliet is the sun\n",
        "\n",
        "Arise fair sun and kill the envious moon\n",
        "\n",
        "Who is already sick and pale with grief"
      ],
      "metadata": {
        "id": "rFBCBpV0YvzN"
      }
    },
    {
      "cell_type": "markdown",
      "source": [
        "We will write a Python program to read through the lines of the file, break each line into a list of words, and then loop through each of the words in the line and count each word using a dictionary.\n",
        "\n",
        "\n",
        "You will see that we have two `for` loops. The outer loop is reading the lines of the file and the inner loop is iterating through each of the words on that particular line. This is an example of a pattern called nested loops because one of the loops is the *outer* loop and the other loop is the *inner* loop.\n",
        "\n",
        "Because the inner loop executes all of its iterations each time the outer loop makes a single iteration, we think of the inner loop as iterating “more quickly” and the outer loop as iterating more slowly.\n",
        "\n",
        "The combination of the two nested loops ensures that we will count every word on every line of the input file."
      ],
      "metadata": {
        "id": "MWoXrlPAYwaO"
      }
    },
    {
      "cell_type": "code",
      "source": [
        "# Provided text block as a multiline string for analysis\n",
        "text = \"\"\"But soft what light through yonder window breaks\n",
        "It is the east and Juliet is the sun\n",
        "Arise fair sun and kill the envious moon\n",
        "Who is already sick and pale with grief\"\"\"\n",
        "\n",
        "# Dictionary to store the count of each unique word\n",
        "counts = dict()\n",
        "\n",
        "# Looping through each line in the provided text\n",
        "for line in text.splitlines(): # Splits the text into individual lines, looping over each one\n",
        "    words = line.split()    # Splits each line into words (splitting on spaces)\n",
        "    # Looping through each word in the line\n",
        "    for word in words:     # Loops over each word in the list of words\n",
        "        if word not in counts: # Checks if the word has not yet been counted\n",
        "            counts[word] = 1  # If not, Adds the word to the dictionary with an initial count of 1\n",
        "        else:\n",
        "            counts[word] += 1 # If the word is already in the dictionary, increase its count by 1\n",
        "\n",
        "# Display the final dictionary with word counts\n",
        "counts\n",
        "\n"
      ],
      "metadata": {
        "colab": {
          "base_uri": "https://localhost:8080/"
        },
        "id": "COiiNmTCZ2br",
        "outputId": "5d0b39e9-f81d-4fdf-a44d-f54f10bb8066"
      },
      "execution_count": null,
      "outputs": [
        {
          "output_type": "execute_result",
          "data": {
            "text/plain": [
              "{'But': 1,\n",
              " 'soft': 1,\n",
              " 'what': 1,\n",
              " 'light': 1,\n",
              " 'through': 1,\n",
              " 'yonder': 1,\n",
              " 'window': 1,\n",
              " 'breaks': 1,\n",
              " 'It': 1,\n",
              " 'is': 3,\n",
              " 'the': 3,\n",
              " 'east': 1,\n",
              " 'and': 3,\n",
              " 'Juliet': 1,\n",
              " 'sun': 2,\n",
              " 'Arise': 1,\n",
              " 'fair': 1,\n",
              " 'kill': 1,\n",
              " 'envious': 1,\n",
              " 'moon': 1,\n",
              " 'Who': 1,\n",
              " 'already': 1,\n",
              " 'sick': 1,\n",
              " 'pale': 1,\n",
              " 'with': 1,\n",
              " 'grief': 1}"
            ]
          },
          "metadata": {},
          "execution_count": 18
        }
      ]
    },
    {
      "cell_type": "markdown",
      "source": [
        "### Dictionaries in Python vs. JSON (JavaScript Object Notation) objects\n",
        "\n",
        "Example:\n",
        "``` python\n",
        "# A Python dictionary storing user information\n",
        "user_info = {\n",
        "    \"name\": \"Alice\",\n",
        "    \"age\": 30,\n",
        "    \"email\": \"alice@example.com\",\n",
        "    \"is_active\": True,\n",
        "    \"preferences\": [\"reading\", \"traveling\", \"music\"]\n",
        "}\n",
        "```\n",
        "\n",
        "```json\n",
        "{\n",
        "    \"name\": \"Alice\",\n",
        "    \"age\": 30,\n",
        "    \"email\": \"alice@example.com\",\n",
        "    \"is_active\": true,\n",
        "    \"preferences\": [\"reading\", \"traveling\", \"music\"]\n",
        "}\n",
        "```\n",
        "\n",
        "Here’s a comparison:\n",
        "\n",
        "1. Structure and Syntax\n",
        "- Dictionaries are a Python-specific data structure with key-value pairs. Keys in Python dictionaries can be any immutable data type (e.g., strings, numbers, or tuples).\n",
        "- JSON objects are a language-agnostic data format commonly used for data exchange. In JSON, keys are always strings, and values must be specific data types (string, number, array, object, true, false, or null).\n",
        "2. Data Representation and Usage\n",
        "- Dictionaries are used within Python code for quick lookups, easy data manipulation, and efficient access.\n",
        "- JSON objects are primarily used to transfer data between a server and a web application. JSON is also readable across different programming languages.\n",
        "3. Portability and Compatibility\n",
        "- Dictionaries are limited to Python.\n",
        "- JSON objects can be written to and read from files, making them a common choice for configuration, data exchange, and web services."
      ],
      "metadata": {
        "id": "_uTuJYcfcOGc"
      }
    },
    {
      "cell_type": "markdown",
      "source": [
        "### Please refer to the Textbook for more details about Dictionaires."
      ],
      "metadata": {
        "id": "3BfTI9dCY4s1"
      }
    },
    {
      "cell_type": "markdown",
      "source": [
        "# Tuples\n",
        "\n",
        "## Tuples are immutable\n",
        "\n",
        "A tuple1 is a sequence of values much like a list. The values stored in a tuple can be any type, and they are indexed by integers. The important difference is that tuples are **immutable**. Tuples are also comparable and hashable so we can sort lists of them and use tuples as key values in Python dictionaries.\n",
        "\n",
        "\n",
        "Syntactically, a tuple is a comma-separated list of values:\n",
        "\n",
        "Although it is not necessary, it is common to enclose tuples in parentheses to help us quickly identify tuples when we look at Python code:"
      ],
      "metadata": {
        "id": "brysrU77bRhk"
      }
    },
    {
      "cell_type": "code",
      "source": [
        "t = ('a', 'b', 'c', 'd', 'e')\n",
        "print(t)\n",
        "type(t)"
      ],
      "metadata": {
        "colab": {
          "base_uri": "https://localhost:8080/"
        },
        "id": "pizmnOutc_xi",
        "outputId": "b254deef-830f-4146-d2fc-b4a31a625442"
      },
      "execution_count": null,
      "outputs": [
        {
          "output_type": "stream",
          "name": "stdout",
          "text": [
            "('a', 'b', 'c', 'd', 'e')\n"
          ]
        },
        {
          "output_type": "execute_result",
          "data": {
            "text/plain": [
              "tuple"
            ]
          },
          "metadata": {},
          "execution_count": 22
        }
      ]
    },
    {
      "cell_type": "markdown",
      "source": [
        "What would `t` look like if it is a `list`? or a `string`? or a `dictionary`?\n",
        "Hint:\n",
        "- Lists are denoted by square brackets []\n",
        "- Strings represent a sequence of characters without any separators\n",
        "- In a dictionary, each element requires a key-value pair."
      ],
      "metadata": {
        "id": "vyYqoUWokN0h"
      }
    },
    {
      "cell_type": "markdown",
      "source": [
        "Most list operators also work on tuples. The bracket operator indexes an element:"
      ],
      "metadata": {
        "id": "PChzYgJrdaPT"
      }
    },
    {
      "cell_type": "code",
      "source": [
        "t = ('a', 'b', 'c', 'd', 'e')\n",
        "print(t[0])\n",
        "print(t[1:3])\n",
        "t[0] = 'A'\n",
        "# if you try to modify one of the elements of the tuple, you get an error"
      ],
      "metadata": {
        "colab": {
          "base_uri": "https://localhost:8080/",
          "height": 211
        },
        "id": "wh16IiWndb18",
        "outputId": "e78ac5d3-23c6-4cdf-89a2-f2d25e5298c2"
      },
      "execution_count": null,
      "outputs": [
        {
          "output_type": "stream",
          "name": "stdout",
          "text": [
            "a\n",
            "('b', 'c')\n"
          ]
        },
        {
          "output_type": "error",
          "ename": "TypeError",
          "evalue": "'tuple' object does not support item assignment",
          "traceback": [
            "\u001b[0;31m---------------------------------------------------------------------------\u001b[0m",
            "\u001b[0;31mTypeError\u001b[0m                                 Traceback (most recent call last)",
            "\u001b[0;32m<ipython-input-27-b911d9b1ac20>\u001b[0m in \u001b[0;36m<cell line: 4>\u001b[0;34m()\u001b[0m\n\u001b[1;32m      2\u001b[0m \u001b[0mprint\u001b[0m\u001b[0;34m(\u001b[0m\u001b[0mt\u001b[0m\u001b[0;34m[\u001b[0m\u001b[0;36m0\u001b[0m\u001b[0;34m]\u001b[0m\u001b[0;34m)\u001b[0m\u001b[0;34m\u001b[0m\u001b[0;34m\u001b[0m\u001b[0m\n\u001b[1;32m      3\u001b[0m \u001b[0mprint\u001b[0m\u001b[0;34m(\u001b[0m\u001b[0mt\u001b[0m\u001b[0;34m[\u001b[0m\u001b[0;36m1\u001b[0m\u001b[0;34m:\u001b[0m\u001b[0;36m3\u001b[0m\u001b[0;34m]\u001b[0m\u001b[0;34m)\u001b[0m\u001b[0;34m\u001b[0m\u001b[0;34m\u001b[0m\u001b[0m\n\u001b[0;32m----> 4\u001b[0;31m \u001b[0mt\u001b[0m\u001b[0;34m[\u001b[0m\u001b[0;36m0\u001b[0m\u001b[0;34m]\u001b[0m \u001b[0;34m=\u001b[0m \u001b[0;34m'A'\u001b[0m   \u001b[0;31m# if you try to modify one of the elements of the tuple, you get an error\u001b[0m\u001b[0;34m\u001b[0m\u001b[0;34m\u001b[0m\u001b[0m\n\u001b[0m",
            "\u001b[0;31mTypeError\u001b[0m: 'tuple' object does not support item assignment"
          ]
        }
      ]
    },
    {
      "cell_type": "code",
      "source": [
        "# You can’t modify the elements of a tuple, but you can replace one tuple with another\n",
        "t = ('A',) + t[1:]\n",
        "print(t)"
      ],
      "metadata": {
        "colab": {
          "base_uri": "https://localhost:8080/"
        },
        "id": "a81lCiyPdxYj",
        "outputId": "e79cea24-4bc8-40d3-f539-d38251a8e941"
      },
      "execution_count": null,
      "outputs": [
        {
          "output_type": "stream",
          "name": "stdout",
          "text": [
            "('A', 'b', 'c', 'd', 'e')\n"
          ]
        }
      ]
    },
    {
      "cell_type": "markdown",
      "source": [
        "### Dictionaries and tuples\n",
        "Dictionaries have a method called `items` that returns a list of tuples, where each tuple is a key-value pair:\n",
        "As you should expect from a dictionary, the items are in non-alphabetical order.\n"
      ],
      "metadata": {
        "id": "VhsWIyY6elAL"
      }
    },
    {
      "cell_type": "code",
      "source": [
        "d = {'b':1, 'a':10, 'c':22}\n",
        "t = list(d.items())\n",
        "print(t)\n"
      ],
      "metadata": {
        "colab": {
          "base_uri": "https://localhost:8080/"
        },
        "id": "8wr2jX8ygtYB",
        "outputId": "6ce87e89-5709-481b-b0b0-76d1e961cf84"
      },
      "execution_count": null,
      "outputs": [
        {
          "output_type": "stream",
          "name": "stdout",
          "text": [
            "[('b', 1), ('a', 10), ('c', 22)]\n"
          ]
        }
      ]
    },
    {
      "cell_type": "code",
      "source": [
        "d = {'b':1, 'a':10, 'c':22}\n",
        "t = list(d.items())\n",
        "print(t)\n",
        "t.sort() # since the list of tuples is a list, we can sort the list of tuples\n",
        "print(t)"
      ],
      "metadata": {
        "colab": {
          "base_uri": "https://localhost:8080/"
        },
        "id": "qshVqQCck9F5",
        "outputId": "64a31ded-412a-4aa0-fc1f-c4b12a83fca1"
      },
      "execution_count": 1,
      "outputs": [
        {
          "output_type": "stream",
          "name": "stdout",
          "text": [
            "[('b', 1), ('a', 10), ('c', 22)]\n",
            "[('a', 10), ('b', 1), ('c', 22)]\n"
          ]
        }
      ]
    },
    {
      "cell_type": "markdown",
      "source": [
        "### Multiple assignment with dictionaries\n",
        "Combining `items`, tuple assignment, and `for`, you can see a nice code pattern for traversing the keys and values of a dictionary in a single loop:\n"
      ],
      "metadata": {
        "id": "3DoivdmWemp1"
      }
    },
    {
      "cell_type": "code",
      "source": [
        "d = {'a':10, 'b':1, 'c':22}\n",
        "for key, val in d.items():\n",
        "    print(val, key)"
      ],
      "metadata": {
        "colab": {
          "base_uri": "https://localhost:8080/"
        },
        "id": "zPICm8dBpNan",
        "outputId": "41ed1c0b-d70e-4051-8fc3-e7ce0f82ffe9"
      },
      "execution_count": 4,
      "outputs": [
        {
          "output_type": "stream",
          "name": "stdout",
          "text": [
            "10 a\n",
            "1 b\n",
            "22 c\n"
          ]
        }
      ]
    },
    {
      "cell_type": "markdown",
      "source": [
        "**Is it possible to change `key`, `val` into other varaible names?**\n",
        "\n",
        "Yes, you can change `key` and `val` to any other variable names, like `k` and `v`. This works because Python allows you to name loop variables freely; they just act as placeholders for each key-value pair in the dictionary `d`.\n",
        "\n",
        "**If I do not use `d.items()`, can I still get key and value?**\n",
        "\n",
        "The `for key, val in d.items()` loop works by iterating over each item in `d`, where `.items()` returns key-value pairs.\n",
        "\n",
        "If you don’t use `d.items()`, you’d have to get each value by accessing the dictionary with its key, which makes the code a bit longer."
      ],
      "metadata": {
        "id": "qasLeIwJpYzu"
      }
    },
    {
      "cell_type": "code",
      "source": [
        "d = {'a': 10, 'b': 1, 'c': 22}\n",
        "for key in d:  # Only iterates over keys\n",
        "    val = d[key]  # Manually retrieve each value\n",
        "    print(val, key)\n"
      ],
      "metadata": {
        "colab": {
          "base_uri": "https://localhost:8080/"
        },
        "id": "SG8Hft8Iq6wX",
        "outputId": "5bd8c27d-b141-48da-e14f-29ff24a6d7da"
      },
      "execution_count": 5,
      "outputs": [
        {
          "output_type": "stream",
          "name": "stdout",
          "text": [
            "10 a\n",
            "1 b\n",
            "22 c\n"
          ]
        }
      ]
    }
  ]
}